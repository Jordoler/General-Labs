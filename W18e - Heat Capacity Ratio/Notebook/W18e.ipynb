{
 "cells": [
  {
   "cell_type": "markdown",
   "metadata": {
    "cell_id": "f7c8ccbd98454bcfbf66c15417dc6f13",
    "deepnote_cell_type": "markdown"
   },
   "source": [
    "# Dependencies"
   ]
  },
  {
   "cell_type": "code",
   "execution_count": 1,
   "metadata": {
    "cell_id": "093a68c0dea943568547c5340f0b8b5d",
    "deepnote_cell_type": "code",
    "execution_context_id": "ab7559be-ef1a-462c-958f-86775812487c",
    "execution_millis": 981,
    "execution_start": 1734387568909,
    "source_hash": "ad96c984"
   },
   "outputs": [],
   "source": [
    "import numpy as np\n",
    "import matplotlib.pyplot as plt\n",
    "import pandas as pd\n",
    "from scipy.odr import ODR, Model, Data, RealData\n",
    "from scipy.optimize import curve_fit\n",
    "import seaborn as sns\n",
    "import uncertainties as uc\n",
    "from uncertainties.umath import sqrt\n",
    "from scipy.optimize import fsolve\n",
    "from scipy.interpolate import interp1d\n",
    "from scipy.signal import correlate\n",
    "from scipy.signal import find_peaks\n",
    "from scipy.signal import savgol_filter\n",
    "from scipy.fft import fft"
   ]
  },
  {
   "cell_type": "markdown",
   "metadata": {
    "cell_id": "972b66c1690144eda78a885781354cc4",
    "deepnote_cell_type": "markdown"
   },
   "source": [
    "# Formatting"
   ]
  },
  {
   "cell_type": "code",
   "execution_count": 2,
   "metadata": {
    "cell_id": "9c2d9d4fa89d440f92a11670ae032a6f",
    "deepnote_cell_type": "code",
    "execution_context_id": "d07c39dc-928f-4f90-a96c-cbd3015ef1ce",
    "execution_millis": 0,
    "execution_start": 1734387569941,
    "source_hash": "17cc2375"
   },
   "outputs": [],
   "source": [
    "plt.style.use('Solarize_Light2')   #Options\n",
    "                                    #Solarize_Light2\n",
    "                                    #_classic_test_patch\n",
    "                                    #_mpl-gallery\n",
    "                                    #_mpl-gallery-nogrid\n",
    "                                    #bmh\n",
    "                                    #classic\n",
    "                                    #dark_background\n",
    "                                    #fast\n",
    "                                    #fivethirtyeight\n",
    "                                    #ggplot\n",
    "                                    #grayscale\n",
    "                                    #seaborn-v0_8\n",
    "                                    #seaborn-v0_8-bright\n",
    "                                    #seaborn-v0_8-colorblind\n",
    "                                    #seaborn-v0_8-dark\n",
    "                                    #seaborn-v0_8-dark-palette\n",
    "                                    #seaborn-v0_8-darkgrid\n",
    "                                    #seaborn-v0_8-deep\n",
    "                                    #seaborn-v0_8-muted\n",
    "                                    #seaborn-v0_8-notebook\n",
    "                                    #seaborn-v0_8-paper\n",
    "                                    #seaborn-v0_8-pastel\n",
    "                                    #seaborn-v0_8-poster\n",
    "                                    #seaborn-v0_8-talk\n",
    "                                    #seaborn-v0_8-ticks\n",
    "                                    #seaborn-v0_8-white\n",
    "                                    #seaborn-v0_8-whitegrid\n",
    "                                    #tableau-colorblind10\n",
    "\n",
    "plt.rcParams.update({\n",
    "\n",
    "    'figure.dpi': 225,                 # Resolution of figures\n",
    "    'font.size': 10,                   # Default font size\n",
    "    'font.family': 'sans-serif',       # Font family\n",
    "    'font.sans-serif': ['DejaVu Sans'],\n",
    "    \n",
    "    'axes.titlesize': 10,              # Title font size\n",
    "    'axes.labelsize': 8,              # Axis label font size\n",
    "    'axes.linewidth': 0.8,             # Width of the axis lines\n",
    "    'axes.grid': True,                 # Show grid\n",
    "    # 'grid.color': '#dddddd',\n",
    "    'grid.linestyle': '--',            # Grid line style (dashed)\n",
    "    'grid.linewidth': 0.5,             # Grid line width\n",
    "    \n",
    "    'xtick.labelsize': 8,             # X-axis tick label size\n",
    "    'ytick.labelsize': 8,             # Y-axis tick label size\n",
    "    'xtick.direction': 'in',           # X-axis tick direction\n",
    "    'ytick.direction': 'in',           # Y-axis tick direction\n",
    "\n",
    "    'lines.linewidth': 0.8,            # Line width for plots\n",
    "     'lines.markersize': 0.3,             # Marker size for scatter plots\n",
    "     'lines.marker': 'o',               # Default marker shape\n",
    "\n",
    "    'legend.frameon': True,            # Frame around legend\n",
    "    'legend.framealpha': 0.8,          # Transparency of legend frame\n",
    "    'legend.fontsize': 9,             # Font size in legend\n",
    "    'legend.loc': 'best',              # Default legend location\n",
    "})\n"
   ]
  },
  {
   "cell_type": "markdown",
   "metadata": {
    "cell_id": "129a6bb8e5994c85be39f6272884c0ae",
    "deepnote_cell_type": "markdown"
   },
   "source": [
    "# Useful Functions"
   ]
  },
  {
   "cell_type": "code",
   "execution_count": 3,
   "metadata": {
    "cell_id": "93fbdfa6cf0443f3a4eeeedabac07416",
    "deepnote_cell_type": "code",
    "execution_context_id": "d07c39dc-928f-4f90-a96c-cbd3015ef1ce",
    "execution_millis": 0,
    "execution_start": 1734387569997,
    "source_hash": "d5671196"
   },
   "outputs": [],
   "source": [
    "def rSquared(f_model, x, y, Params):\n",
    "    y_pred = f_model(*Params, x)  \n",
    "    ss_res = np.sum((y - y_pred) ** 2)  \n",
    "    ss_tot = np.sum((y - np.mean(y)) ** 2)  \n",
    "    return 1 - (ss_res / ss_tot)\n",
    "\n",
    "def Residuals(y_measured,y_modelled):\n",
    "    return y_measured - y_modelled\n",
    "\n",
    "def MeanSquareError(y_measured,y_modelled):\n",
    "    return ((1/len(y_measured))*(np.sum((y_measured-y_modelled)**2)))\n",
    "\n",
    "def RootMeanSquareError(y_measured,y_modelled):\n",
    "    return np.sqrt(MeanSquareError(y_measured,y_modelled))\n",
    "\n",
    "def MeanAbsError(y_measured,y_modelled):\n",
    "    return ((1/len(y_measured))*(np.sum(np.abs(y_measured-y_modelled))))\n",
    "\n",
    "def ConfidenceInterval(y_measured,y_modelled,confInt=95):\n",
    "    if(confInt == 95):\n",
    "        Z = 1.96\n",
    "    elif(confInt == 90):\n",
    "        Z = 1.645\n",
    "    elif(confInt == 99):\n",
    "        Z = 2.576\n",
    "    return Z*np.sqrt((1/len(y_measured))*(np.sum((y_measured-y_modelled)**2)))\n",
    "\n",
    "def ArrayWithStaticUnc(Array,unc):\n",
    "    a = []\n",
    "    b = []\n",
    "    for i in range(len(Array)):\n",
    "            a.append(uc.ufloat(Array[i],unc))\n",
    "            b.append(unc)\n",
    "    return np.array(a), np.array(b)\n",
    "\n",
    "def UnpackUncArray(Array):\n",
    "     value = [Array[i].nominal_value for i in range(len(Array))]\n",
    "     std = [Array[i].std_dev for i in range(len(Array))]\n",
    "     return np.array(value),np.array(std) \n",
    "\n",
    "# Non Linear Curve Fiting Function\n",
    "def NonLinAnalysis(f_model, x, y, ParamsArr, weights):\n",
    "    if ParamsArr is None:\n",
    "        Params = None\n",
    "        std = None \n",
    "        R2 = rSquared(f_model,x,y,Params)\n",
    "    else:\n",
    "        Params, cov = curve_fit(f_model, x, y, p0=ParamsArr, sigma=weights)\n",
    "        std = np.sqrt(np.diag(cov))\n",
    "        R2 = rSquared(f_model,x,y,Params)\n",
    "    return Params, std, R2\n",
    " \n",
    "def RR2(y,y_pred):\n",
    "   ss_res = np.sum((y - y_pred) ** 2)\n",
    "   ss_tot = np.sum((y - np.mean(y)) ** 2)\n",
    "   R2 = 1 - (ss_res / ss_tot)\n",
    "   return R2\n",
    "\n",
    "def sortByArray1(array1, array2):\n",
    "    sorted_pairs = sorted(zip(array1, array2))\n",
    "    sorted_array1, sorted_array2 = zip(*sorted_pairs)\n",
    "    return list(sorted_array1), list(sorted_array2)"
   ]
  },
  {
   "cell_type": "markdown",
   "metadata": {
    "cell_id": "e5ad734b6bce402284d3fc61816ddb83",
    "deepnote_cell_type": "markdown"
   },
   "source": [
    "# Inputting and Formatting Data"
   ]
  },
  {
   "cell_type": "code",
   "execution_count": 4,
   "metadata": {
    "cell_id": "a0b66c38674e4ffb90026794bb89a7c9",
    "deepnote_cell_type": "code",
    "execution_context_id": "ab7559be-ef1a-462c-958f-86775812487c",
    "execution_millis": 732,
    "execution_start": 1734387570045,
    "source_hash": "a41faa96"
   },
   "outputs": [],
   "source": [
    "Resonance = pd.read_csv(\"Data/ResonantFreq.csv\")\n",
    "DistanceAmp = pd.read_csv(\"Data/DistanceVAmp.csv\")\n",
    "DetWavelength = pd.read_csv(\"Data/DetermineWavelength.csv\")\n",
    "TransistTime = pd.read_csv(\"Data/TransitTimeMethod.csv\")"
   ]
  },
  {
   "cell_type": "markdown",
   "metadata": {
    "cell_id": "4473eebbfd4348e6bdeec3e5284fa36d",
    "deepnote_cell_type": "markdown"
   },
   "source": [
    "# Task I"
   ]
  },
  {
   "cell_type": "code",
   "execution_count": null,
   "metadata": {
    "cell_id": "78c59f88c6354ed5b5a4f8951fa9b1da",
    "deepnote_cell_type": "code",
    "deepnote_table_loading": false,
    "deepnote_table_state": {
     "cellFormattingRules": [],
     "columnDisplayNames": [],
     "columnOrder": [
      "distance(cm)",
      "voltage(V)",
      "frequency(kHz)"
     ],
     "conditionalFilters": [],
     "filters": [],
     "hiddenColumnIds": [],
     "pageIndex": 0,
     "pageSize": 25,
     "sortBy": [],
     "wrappedTextColumnIds": []
    },
    "execution_context_id": "ddfe1ddd-0f7a-4ac5-bc9d-946708db332b",
    "execution_millis": 1,
    "execution_start": 1734387570825,
    "source_hash": "33bfe8c2"
   },
   "outputs": [],
   "source": [
    "DistanceAmp"
   ]
  },
  {
   "cell_type": "code",
   "execution_count": 6,
   "metadata": {
    "cell_id": "be61de3060f74de797428cbb8b4de8da",
    "deepnote_cell_type": "code",
    "execution_context_id": "06bd3760-f136-439e-b8d1-5dd47a625d4b",
    "execution_millis": 0,
    "execution_start": 1734387570873,
    "source_hash": "63d3e9db"
   },
   "outputs": [],
   "source": [
    "def mitUncR(R):\n",
    "    return 0.001*R\n",
    "def mitUncV(V):\n",
    "    return 0.005*V\n",
    "def mitUnctime(t):\n",
    "    return 0.01*t"
   ]
  },
  {
   "cell_type": "code",
   "execution_count": null,
   "metadata": {
    "cell_id": "ec744dceea4d405baa1435c8943a9a02",
    "deepnote_cell_type": "code",
    "execution_context_id": "ab7559be-ef1a-462c-958f-86775812487c",
    "execution_millis": 699,
    "execution_start": 1734387570925,
    "source_hash": "27db7723"
   },
   "outputs": [],
   "source": [
    "distance = [uc.ufloat(val, mitUncR(val)) for val in DistanceAmp[\"distance(cm)\"]]\n",
    "voltage = [uc.ufloat(val, mitUncV(val)) for val in DistanceAmp[\"voltage(V)\"]]\n",
    "\n",
    "\n",
    "def inverse_square_law(d, A, C):\n",
    "    return A / (d + C)**2 \n",
    "\n",
    "popt, pcov = curve_fit(inverse_square_law, [d.nominal_value for d in distance], [v.nominal_value for v in voltage])\n",
    "A_fit, C_fit = popt\n",
    "\n",
    "voltage_fit = inverse_square_law(np.array([d.nominal_value for d in distance]), A_fit, C_fit)\n",
    "R2 = RR2([v.nominal_value for v in voltage], voltage_fit)\n",
    "\n",
    "plt.figure(figsize=(8, 6))\n",
    "plt.errorbar(DistanceAmp[\"distance(cm)\"], [v.nominal_value for v in voltage], \n",
    "             yerr=[v.std_dev for v in voltage], \n",
    "             xerr=[d.std_dev for d in distance], \n",
    "             fmt=\"o\", markersize=5, capsize=5, elinewidth=1, color=\"darkblue\", label=\"Measured Data\")\n",
    "plt.plot(DistanceAmp[\"distance(cm)\"], voltage_fit, color=\"green\", linewidth=2, linestyle=\"--\", label=f\"Curve fit line\")\n",
    "print(A_fit, C_fit)\n",
    "\n",
    "Table1 = [\n",
    "        [r\"$r^2$\", f\"{R2:.5g}\"],\n",
    "        ]\n",
    "plt.table(cellText= Table1,\n",
    "          colLabels=[\"\",\"Modelled\"],\n",
    "          loc='center right',\n",
    "          cellLoc='left',\n",
    "          colWidths=[0.1,0.12],\n",
    "          fontsize=4, zorder=100)\n",
    "\n",
    "plt.xlabel(\"Distance (cm)\", fontsize=12)\n",
    "plt.ylabel(\"Voltage (V)\", fontsize=12)\n",
    "plt.title(\"The ultrasound signal as a function of distance\", fontsize=14)\n",
    "plt.xticks(fontsize=10)\n",
    "plt.yticks(fontsize=10)\n",
    "plt.legend(fontsize=10)\n",
    "plt.grid(color=\"black\", linestyle=\"--\", linewidth=0.5)\n",
    "plt.tight_layout()\n",
    "\n",
    "plt.show()\n"
   ]
  },
  {
   "cell_type": "code",
   "execution_count": null,
   "metadata": {
    "cell_id": "13ac6e2b7b4b4e4eb5d1bc0da8cfa67f",
    "deepnote_cell_type": "code",
    "execution_context_id": "06bd3760-f136-439e-b8d1-5dd47a625d4b",
    "execution_millis": 1,
    "execution_start": 1734387571677,
    "source_hash": "28e77687"
   },
   "outputs": [],
   "source": [
    "Resonance"
   ]
  },
  {
   "cell_type": "code",
   "execution_count": null,
   "metadata": {
    "cell_id": "3e53d58eb7324837aaecb83547e223ed",
    "deepnote_cell_type": "code",
    "execution_context_id": "ab7559be-ef1a-462c-958f-86775812487c",
    "execution_millis": 312,
    "execution_start": 1734387571733,
    "source_hash": "60d7e8e2"
   },
   "outputs": [],
   "source": [
    "x = Resonance[\"Freq(KHz)\"]\n",
    "y = Resonance[\"Volt(V)\"]\n",
    "plt.errorbar(x, y, markersize=5, color='darkred', fmt=\"o\")\n",
    "plt.xlabel(\"Frequency(kHz)\", fontsize=12)\n",
    "plt.ylabel(\"Voltage (V)\", fontsize=12)\n",
    "plt.title(\"Resonance Frequency\", fontsize=14)\n",
    "plt.xticks(fontsize=10)\n",
    "plt.yticks(fontsize=10)\n",
    "plt.legend(fontsize=10)\n",
    "plt.grid(color=\"black\", linestyle=\"--\", linewidth=0.5)\n",
    "plt.tight_layout()\n",
    "plt.show()"
   ]
  },
  {
   "cell_type": "code",
   "execution_count": null,
   "metadata": {
    "cell_id": "1f981dbc793d4e9eaac46f701efe29e9",
    "deepnote_cell_type": "code",
    "execution_context_id": "ab7559be-ef1a-462c-958f-86775812487c",
    "execution_millis": 0,
    "execution_start": 1734387572310,
    "source_hash": "a9266bac"
   },
   "outputs": [],
   "source": [
    "DetWavelength[\"FrequencymitUnc\"] = [uc.ufloat(DetWavelength[\"frequency(kHz)\"][i],4e-9) for i in range(len(DetWavelength))]\n",
    "DetWavelength[\"DistancemitUnc\"] = [uc.ufloat(DetWavelength[\"distance(cm)\"][i],0.01) for i in range(len(DetWavelength))]\n",
    "Wavelength = [DetWavelength[\"DistancemitUnc\"][i+1] - DetWavelength[\"DistancemitUnc\"][i] for i in range(len(DetWavelength)-1)]\n",
    "WavelengthAvg = np.mean(Wavelength)\n",
    "Velo = WavelengthAvg*(DetWavelength[\"FrequencymitUnc\"][0])*10\n",
    "print(f\"Wavelength: {WavelengthAvg} m\")\n",
    "print(f\"Speed of Sound from Lissajous Figures Method \\n{Velo} m/s\")"
   ]
  },
  {
   "cell_type": "code",
   "execution_count": null,
   "metadata": {
    "cell_id": "c44d590fdba34b4a82f7de0c8bf1e0b4",
    "deepnote_cell_type": "code",
    "execution_context_id": "ab7559be-ef1a-462c-958f-86775812487c",
    "execution_millis": 378,
    "execution_start": 1734387572357,
    "source_hash": "4191c741"
   },
   "outputs": [],
   "source": [
    "distance1 = [uc.ufloat(val, mitUncR(val)) for val in TransistTime[\"distance(cm)\"]]\n",
    "time = [uc.ufloat(val, mitUnctime(val)) for val in TransistTime[\"deltaTime(us)\"]]\n",
    "\n",
    "plt.figure(figsize=(8, 6))\n",
    "plt.errorbar([t.nominal_value for t in time], [d.nominal_value for d in distance1],\n",
    "             yerr=[t.std_dev for t in time], \n",
    "             xerr=[d.std_dev for d in distance1], \n",
    "             fmt=\"o\", markersize=5, capsize=5, elinewidth=1, color=\"darkblue\", label=\"Measured Data\")\n",
    "\n",
    "plt.xlabel(\"Time (ms)\", fontsize=12)\n",
    "plt.ylabel(\"Distance (cm)\", fontsize=12)\n",
    "plt.title(\"Time Transient Method\", fontsize=14)\n",
    "plt.xticks(fontsize=10)\n",
    "plt.yticks(fontsize=10)\n",
    "plt.legend(fontsize=10)\n",
    "plt.grid(color=\"black\", linestyle=\"--\", linewidth=0.5)\n",
    "plt.tight_layout()\n",
    "plt.show()"
   ]
  },
  {
   "cell_type": "code",
   "execution_count": null,
   "metadata": {
    "cell_id": "18869d799ab345b59c0faae535d8f7c3",
    "deepnote_cell_type": "code",
    "execution_context_id": "704bda69-67ba-4bac-8d9b-3182611b0d1b",
    "execution_millis": 1,
    "execution_start": 1734387572785,
    "source_hash": "554dda08"
   },
   "outputs": [],
   "source": [
    "TransistTime"
   ]
  },
  {
   "cell_type": "code",
   "execution_count": null,
   "metadata": {
    "cell_id": "0bc6cf2d2a1b490fa7e9bd3aa3171897",
    "deepnote_cell_type": "code",
    "execution_context_id": "ab7559be-ef1a-462c-958f-86775812487c",
    "execution_millis": 0,
    "execution_start": 1734387572845,
    "source_hash": "71bff6d1"
   },
   "outputs": [],
   "source": [
    "TransistTime[\"DistancemitUnc\"] = [uc.ufloat(TransistTime[\"distance(cm)\"][i]*1e-2,0.01*1e-2) for i in range(len(TransistTime))]\n",
    "TransistTime[\"TimemitUnc\"] = [uc.ufloat(TransistTime[\"deltaTime(us)\"][i]*1e-6,0.1*1e-6) for i in range(len(TransistTime))]\n",
    "TransitVelocities = [TransistTime[\"DistancemitUnc\"][i]/TransistTime[\"TimemitUnc\"][i] for i in range(len(TransistTime))]\n",
    "AvgTransitVelocities = np.mean(TransitVelocities)\n",
    "print(f\"Speed of Sound from Time Transit Method \\n{AvgTransitVelocities} m/s\")"
   ]
  },
  {
   "cell_type": "code",
   "execution_count": null,
   "metadata": {
    "cell_id": "28c9fb311310407c9d169139489e6b9c",
    "deepnote_cell_type": "code",
    "execution_context_id": "ab7559be-ef1a-462c-958f-86775812487c",
    "execution_millis": 1,
    "execution_start": 1734387572893,
    "source_hash": "a613619e"
   },
   "outputs": [],
   "source": [
    "def gamma(V):\n",
    "    return (V**2 * 1.225)/101325\n",
    "\n",
    "print(f\"Adiabatic Constant from Lissajour Figure Method \\n{gamma(Velo)}\")\n",
    "print(f\"Adiabatic Constant from Time Transit Method \\n{gamma(AvgTransitVelocities)}\")\n"
   ]
  },
  {
   "cell_type": "markdown",
   "metadata": {
    "cell_id": "4e48ba54d14e4a0bb3da997d704c79d0",
    "deepnote_cell_type": "markdown"
   },
   "source": [
    "# Task II"
   ]
  },
  {
   "cell_type": "code",
   "execution_count": null,
   "metadata": {
    "cell_id": "29847b119b8a4343b353b223bad92d9b",
    "deepnote_cell_type": "code",
    "execution_context_id": "ab7559be-ef1a-462c-958f-86775812487c",
    "execution_millis": 0,
    "execution_start": 1734387572945,
    "source_hash": "db0890bc"
   },
   "outputs": [],
   "source": [
    "ResFreq = uc.ufloat(23.8, 0.2)\n",
    "def gammaResTube(ResFreq):\n",
    "    return 297.1*(ResFreq**2/101325)\n",
    "print(f\"Adiabatic Constant from Resonance-Tube Method \\n{gammaResTube(ResFreq)}\")\n"
   ]
  },
  {
   "cell_type": "code",
   "execution_count": null,
   "metadata": {
    "cell_id": "b84dc2c15a2c4b01a4d20bb2f4fc3298",
    "deepnote_cell_type": "code",
    "execution_context_id": "ab7559be-ef1a-462c-958f-86775812487c",
    "execution_millis": 247,
    "execution_start": 1734387806377,
    "source_hash": "7b672d24"
   },
   "outputs": [],
   "source": [
    "TheoreticalAdConst = 1.4\n",
    "g= 190\n",
    "a = [200-g,300-g,400-g]\n",
    "b=[gammaResTube(ResFreq).nominal_value,gamma(AvgTransitVelocities).nominal_value,gamma(Velo).nominal_value]\n",
    "plt.figure(figsize=(8,6),dpi=200)\n",
    "plt.ticklabel_format(axis='y', style='sci', scilimits=(-2, 2))\n",
    "plt.xticks(ticks=[-90,200-g,300-g,400-g],labels=['Theo',\"ResTube\",'TimeTrans',\"UltraSound\"])\n",
    "plt.xlim(-200,500-g)\n",
    "plt.scatter(-90,1.4,s=10,color=\"cyan\",edgecolors='k',linewidth=0.5,zorder=10,label=\"Theoretical\")\n",
    "plt.errorbar(a, b, yerr=[gammaResTube(ResFreq).std_dev, gamma(AvgTransitVelocities).std_dev, gamma(Velo).std_dev], fmt='o', color=\"orange\", ecolor=\"k\", elinewidth=0.5, capsize=3, zorder=10, label=\"Measured\", markeredgecolor=\"k\", markersize=3, \n",
    "linewidth=0.5)\n",
    "#plt.scatter(a,c,s=10,color=\"#e75480\",edgecolors='k',linewidth=0.5,zorder=10,label=\"Theoretical\")\n",
    "#plt.errorbar(a,c,yerr=cerr,fmt=\"o\",capsize=2,color=\"#e75480\")\n",
    "plt.legend()\n",
    "plt.ylabel(r'$\\gamma$')\n",
    "plt.title(\"Adiabatic Constants Comparision\")\n",
    "plt.show()\n"
   ]
  },
  {
   "cell_type": "code",
   "execution_count": null,
   "metadata": {
    "cell_id": "b95a40f995bc44c485449412f3b2765b",
    "deepnote_cell_type": "code",
    "execution_context_id": "ab7559be-ef1a-462c-958f-86775812487c",
    "execution_millis": 0,
    "execution_start": 1734387573265,
    "source_hash": "a2f5c832"
   },
   "outputs": [],
   "source": [
    "print(gammaResTube(ResFreq))\n",
    "print(gamma(AvgTransitVelocities))\n",
    "print(gamma(Velo))"
   ]
  }
 ],
 "metadata": {
  "deepnote_notebook_id": "03d0bb48073c465aa001c65916544542",
  "deepnote_persisted_session": {
   "createdAt": "2024-12-16T22:40:17.059Z"
  },
  "language_info": {
   "name": "python"
  }
 },
 "nbformat": 4,
 "nbformat_minor": 0
}
