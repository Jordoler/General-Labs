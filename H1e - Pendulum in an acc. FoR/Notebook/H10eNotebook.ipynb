{
 "cells": [
  {
   "cell_type": "markdown",
   "metadata": {
    "cell_id": "bf93a843c45e4a52bedcca3c24a921bf",
    "deepnote_app_block_visible": true,
    "deepnote_cell_type": "markdown"
   },
   "source": [
    "# Final Code:"
   ]
  },
  {
   "cell_type": "code",
   "execution_count": 1,
   "metadata": {
    "cell_id": "872028bdc9a64d1196551d2892822d86",
    "deepnote_app_block_visible": true,
    "deepnote_cell_type": "code",
    "execution_context_id": "d6970745-394a-459e-82b1-4226d0f42ff1",
    "execution_millis": 792,
    "execution_start": 1730209292211,
    "source_hash": "d97b5992"
   },
   "outputs": [],
   "source": [
    "import matplotlib.pyplot as plt\n",
    "import numpy as np\n",
    "import pandas as pd\n",
    "from scipy.signal import find_peaks\n",
    "import uncertainties as uc\n",
    "from uncertainties.umath import sqrt\n",
    "import matplotlib as mpl\n",
    "import os\n",
    "current_dir = os.getcwd()"
   ]
  },
  {
   "cell_type": "code",
   "execution_count": 2,
   "metadata": {
    "cell_id": "4b4c196e7e334d3395771e8e519f46f7",
    "deepnote_app_block_visible": true,
    "deepnote_cell_type": "code",
    "execution_context_id": "d6970745-394a-459e-82b1-4226d0f42ff1",
    "execution_millis": 4894,
    "execution_start": 1730209293055,
    "source_hash": "a7b1ec7a"
   },
   "outputs": [],
   "source": [
    "# Initial Conditions\n",
    "TimeTrimIndex = 15000\n",
    "g = 9.81 #m/s^2\n",
    "l = uc.ufloat(0.54,0.0005) #m\n",
    "h = uc.ufloat(0.15,0.0005) #m\n",
    "m = uc.ufloat(0.227,0.0005) #kg\n",
    "phi_0 =  uc.ufloat(np.pi/6, np.pi/180)\n",
    "\n",
    "Phone_width = uc.ufloat(0.084,0.0005) #m\n",
    "Phone_height = uc.ufloat(0.170,0.0005) #m\n",
    "Phone_depth = uc.ufloat(0.009,0.0005) #m\n",
    "\n",
    "offset = m*(l+(Phone_depth)/2)**2 # offset for Parallel Axis theorem in calculating the Jp\n",
    "I_xx = (1/12)*m*(Phone_height**2+Phone_depth**2) # Moment of Inertia\n",
    "Jp = I_xx + offset\n",
    "\n",
    "Trial1 = {\"LinAcc\":pd.read_csv(\"Data/Trail1_Linear_Acceleration.csv\"),\n",
    "          \"Acc\": pd.read_csv(\"Data/Trail1_Accelerometer.csv\"),\n",
    "          \"Gyro\": pd.read_csv(\"Data/Trail1_Gyroscope.csv\") \n",
    "          }\n",
    "\n",
    "Trial2 = {\"LinAcc\":pd.read_csv(\"Data/Trail2_Linear_Acceleration.csv\"),\n",
    "          \"Acc\": pd.read_csv(\"Data/Trail2_Accelerometer.csv\"),\n",
    "          \"Gyro\": pd.read_csv(\"Data/Trail2_Gyroscope.csv\") \n",
    "          }\n",
    "\n",
    "Trial3 = {\"LinAcc\":pd.read_csv(\"Data/Trail3_Linear_Acceleration.csv\"),\n",
    "          \"Acc\": pd.read_csv(\"Data/Trail3_Accelerometer.csv\"),\n",
    "          \"Gyro\": pd.read_csv(\"Data/Trail3_Gyroscope.csv\") \n",
    "          }\n",
    "\n",
    "Trial4 = {\"LinAcc\":pd.read_csv(\"Data/Trail4_Linear_Acceleration.csv\"),\n",
    "          \"Acc\": pd.read_csv(\"Data/Trail4_Accelerometer.csv\"),\n",
    "          \"Gyro\": pd.read_csv(\"Data/Trail4_Gyroscope.csv\") \n",
    "          }\n",
    "\n",
    "Trial5 = {\"LinAcc\":pd.read_csv(\"Data/Trail5_Linear_Acceleration.csv\"),\n",
    "          \"Acc\": pd.read_csv(\"Data/Trail5_Accelerometer.csv\"),\n",
    "          \"Gyro\": pd.read_csv(\"Data/Trail5_Gyroscope.csv\") \n",
    "          }\n",
    "\n",
    "# If files cannot be found please replace file paths with absolute file paths."
   ]
  },
  {
   "cell_type": "markdown",
   "metadata": {
    "cell_id": "66bd1eb9cc714b01a82f34a1ae37d976",
    "deepnote_app_block_visible": true,
    "deepnote_cell_type": "markdown"
   },
   "source": [
    "### Formatting"
   ]
  },
  {
   "cell_type": "code",
   "execution_count": 3,
   "metadata": {
    "cell_id": "e072d59e94f949df88172d444961456f",
    "deepnote_app_block_visible": true,
    "deepnote_cell_type": "code",
    "execution_context_id": "d6970745-394a-459e-82b1-4226d0f42ff1",
    "execution_millis": 0,
    "execution_start": 1730209298003,
    "source_hash": "38a06c7b"
   },
   "outputs": [],
   "source": [
    "plt.style.use('Solarize_Light2')   #Options\n",
    "                                    #Solarize_Light2\n",
    "                                    #_classic_test_patch\n",
    "                                    #_mpl-gallery\n",
    "                                    #_mpl-gallery-nogrid\n",
    "                                    #bmh\n",
    "                                    #classic\n",
    "                                    #dark_background\n",
    "                                    #fast\n",
    "                                    #fivethirtyeight\n",
    "                                    #ggplot\n",
    "                                    #grayscale\n",
    "                                    #seaborn-v0_8\n",
    "                                    #seaborn-v0_8-bright\n",
    "                                    #seaborn-v0_8-colorblind\n",
    "                                    #seaborn-v0_8-dark\n",
    "                                    #seaborn-v0_8-dark-palette\n",
    "                                    #seaborn-v0_8-darkgrid\n",
    "                                    #seaborn-v0_8-deep\n",
    "                                    #seaborn-v0_8-muted\n",
    "                                    #seaborn-v0_8-notebook\n",
    "                                    #seaborn-v0_8-paper\n",
    "                                    #seaborn-v0_8-pastel\n",
    "                                    #seaborn-v0_8-poster\n",
    "                                    #seaborn-v0_8-talk\n",
    "                                    #seaborn-v0_8-ticks\n",
    "                                    #seaborn-v0_8-white\n",
    "                                    #seaborn-v0_8-whitegrid\n",
    "                                    #tableau-colorblind10\n",
    "\n",
    "plt.rcParams.update({\n",
    "\n",
    "    'figure.dpi': 300,                 # Resolution of figures\n",
    "    'font.size': 10,                   # Default font size\n",
    "    'font.family': 'sans-serif',       # Font family\n",
    "    'font.sans-serif': ['DejaVu Sans'],\n",
    "    \n",
    "    'axes.titlesize': 10,              # Title font size\n",
    "    'axes.labelsize': 8,              # Axis label font size\n",
    "    'axes.linewidth': 0.8,             # Width of the axis lines\n",
    "    'axes.grid': True,                 # Show grid\n",
    "    # 'grid.color': '#dddddd',\n",
    "    'grid.linestyle': '--',            # Grid line style (dashed)\n",
    "    'grid.linewidth': 0.5,             # Grid line width\n",
    "    \n",
    "    'xtick.labelsize': 8,             # X-axis tick label size\n",
    "    'ytick.labelsize': 8,             # Y-axis tick label size\n",
    "    'xtick.direction': 'in',           # X-axis tick direction\n",
    "    'ytick.direction': 'in',           # Y-axis tick direction\n",
    "\n",
    "    'lines.linewidth': 0.8,            # Line width for plots\n",
    "     'lines.markersize': 0.3,             # Marker size for scatter plots\n",
    "     'lines.marker': 'o',               # Default marker shape\n",
    "\n",
    "    'legend.frameon': True,            # Frame around legend\n",
    "    'legend.framealpha': 0.8,          # Transparency of legend frame\n",
    "    'legend.fontsize': 12,             # Font size in legend\n",
    "    'legend.loc': 'best',              # Default legend location\n",
    "})"
   ]
  },
  {
   "cell_type": "markdown",
   "metadata": {
    "cell_id": "b3909fd5d1b3476fb9475d8f31a06a98",
    "deepnote_app_block_visible": true,
    "deepnote_cell_type": "markdown"
   },
   "source": [
    "### Plotting"
   ]
  },
  {
   "cell_type": "code",
   "execution_count": 4,
   "metadata": {
    "cell_id": "ecd5818cc88643eb9f9375905e25ac83",
    "deepnote_app_block_visible": true,
    "deepnote_cell_type": "code",
    "execution_context_id": "d6970745-394a-459e-82b1-4226d0f42ff1",
    "execution_millis": 1,
    "execution_start": 1730209298054,
    "source_hash": "3f2ccc2d"
   },
   "outputs": [],
   "source": [
    "def PlotRawTrialData(Trial,SuperTitle,TimeTrim):\n",
    "    LinAcc_Offset = 7700\n",
    "    Data = [[Trial[\"Acc\"].iloc[TimeTrim:,1],Trial[\"Acc\"].iloc[TimeTrim:,2],Trial[\"Acc\"].iloc[TimeTrim:,3]],\n",
    "            [Trial[\"LinAcc\"].iloc[TimeTrim-LinAcc_Offset:,1],Trial[\"LinAcc\"].iloc[TimeTrim-LinAcc_Offset:,2],Trial[\"LinAcc\"].iloc[TimeTrim-LinAcc_Offset:,3]],\n",
    "            [Trial[\"Gyro\"].iloc[TimeTrim:,1],Trial[\"Gyro\"].iloc[TimeTrim:,2],Trial[\"Gyro\"].iloc[TimeTrim:,3]]\n",
    "            ]\n",
    "    names = [\"Acc\",\"LinAcc\",\"Gyro\"]\n",
    "    fig, axes = plt.subplots(3, 3, figsize=(18, 12))\n",
    "    fig.suptitle(str(SuperTitle),fontsize=20)\n",
    "    for i in range(3):\n",
    "        for j in range(3):\n",
    "            ax = axes[i, j]\n",
    "            if i==1:\n",
    "                ax.plot(Trial[names[i]].iloc[TimeTrim-LinAcc_Offset:,0],Data[i][j])\n",
    "            else:\n",
    "                ax.plot(Trial[names[i]].iloc[TimeTrim:,0],Data[i][j])  \n",
    "            ax.set_title(f'{Trial[names[i]].columns[j+1]}')\n",
    "            ax.set_xlabel(\"Time (s)\")                 \n",
    "            ax.set_ylabel(f'{Trial[names[i]].columns[j+1]}')                 \n",
    "    plt.tight_layout()\n",
    "    plt.show()\n"
   ]
  },
  {
   "cell_type": "markdown",
   "metadata": {
    "cell_id": "960dcb567e43469d98d2ff8ff48f1986",
    "deepnote_app_block_visible": true,
    "deepnote_cell_type": "markdown",
    "execution_context_id": "dac57339-1426-4a36-a17d-c8e03380986b",
    "execution_millis": 2,
    "execution_start": 1729903583783,
    "source_hash": "b623e53d"
   },
   "source": [
    "### Raw Data Plots"
   ]
  },
  {
   "cell_type": "code",
   "execution_count": null,
   "metadata": {
    "cell_id": "24e8f8e5994c415196a12a583d8c2176",
    "deepnote_app_block_visible": true,
    "deepnote_cell_type": "code",
    "execution_context_id": "d6970745-394a-459e-82b1-4226d0f42ff1",
    "execution_millis": 6744,
    "execution_start": 1730209298106,
    "source_hash": "eea3ed19"
   },
   "outputs": [],
   "source": [
    "PlotRawTrialData(Trial1,\"Trial 1\",TimeTrimIndex)\n",
    "PlotRawTrialData(Trial2,\"Trial 2\",TimeTrimIndex)"
   ]
  },
  {
   "cell_type": "code",
   "execution_count": null,
   "metadata": {
    "cell_id": "687395199c3f492db34b394e21c19ae3",
    "deepnote_app_block_visible": true,
    "deepnote_cell_type": "code",
    "execution_context_id": "d6970745-394a-459e-82b1-4226d0f42ff1",
    "execution_millis": 6665,
    "execution_start": 1730209304873,
    "source_hash": "76dba2ac"
   },
   "outputs": [],
   "source": [
    "PlotRawTrialData(Trial3,\"Trial 3\",TimeTrimIndex)\n",
    "PlotRawTrialData(Trial4,\"Trial 4\",TimeTrimIndex)\n"
   ]
  },
  {
   "cell_type": "code",
   "execution_count": null,
   "metadata": {
    "cell_id": "b7cf1a5fac4e4b088cc8a6444cb7eb34",
    "deepnote_app_block_visible": true,
    "deepnote_cell_type": "code",
    "execution_context_id": "d6970745-394a-459e-82b1-4226d0f42ff1",
    "execution_millis": 3100,
    "execution_start": 1730209311611,
    "source_hash": "6ac47982"
   },
   "outputs": [],
   "source": [
    "PlotRawTrialData(Trial5,\"Trial 5\",TimeTrimIndex)"
   ]
  },
  {
   "cell_type": "markdown",
   "metadata": {
    "cell_id": "b2d5a1ffe93546809e98318114f10578",
    "deepnote_app_block_visible": true,
    "deepnote_cell_type": "markdown"
   },
   "source": [
    "## TASK II\n",
    "\n",
    "        Determine the frequency from the angular velocity und compare to the theoretical result.\n"
   ]
  },
  {
   "cell_type": "markdown",
   "metadata": {
    "cell_id": "ea7a4ae061234b76914212140b98e15f",
    "deepnote_app_block_visible": true,
    "deepnote_cell_type": "markdown"
   },
   "source": [
    "    Theoretical result of frequency is given by the relation between the angular velocity and the angular displacement: \n",
    "\n",
    "$$ f_0 = \\frac{w_0}{2\\pi} = \\sqrt{\\frac{mgl}{J_p}} \\cdot \\frac{1}{2\\pi} $$"
   ]
  },
  {
   "cell_type": "code",
   "execution_count": null,
   "metadata": {
    "cell_id": "333d9e2f29904c1784fc3b37e07878e2",
    "deepnote_app_block_visible": true,
    "deepnote_cell_type": "code",
    "execution_context_id": "d6970745-394a-459e-82b1-4226d0f42ff1",
    "execution_millis": 1,
    "execution_start": 1730209314810,
    "source_hash": "f896bc8b"
   },
   "outputs": [],
   "source": [
    "#Theoretical Frequency Result\n",
    "Freq_Theoretical = (1/(2*np.pi))*(sqrt((m*g*l)/Jp))\n",
    "print(f\"Theoretical Frequency: {Freq_Theoretical.nominal_value:.5f}±{Freq_Theoretical.std_dev:.5f}Hz\")"
   ]
  },
  {
   "cell_type": "markdown",
   "metadata": {
    "cell_id": "b7f863e5615047f9b4d7968b40e46b31",
    "deepnote_app_block_visible": true,
    "deepnote_cell_type": "markdown"
   },
   "source": [
    "        Using Fast Fourier Transform (FFT), the angular velocity values are transformed into the frequency functions. The code concentrates on the positive frequencies and their magnitudes. This algorithm highlights significant frequencies, by finding extremal points of magnitude. The values obtained from the angular velocity data are: "
   ]
  },
  {
   "cell_type": "code",
   "execution_count": null,
   "metadata": {
    "cell_id": "7a5f10a07c8043b08b954149afa7fceb",
    "deepnote_app_block_visible": true,
    "deepnote_cell_type": "code",
    "execution_context_id": "d6970745-394a-459e-82b1-4226d0f42ff1",
    "execution_millis": 1206,
    "execution_start": 1730209314871,
    "source_hash": "95598946"
   },
   "outputs": [],
   "source": [
    "f_0Peaks = []\n",
    "fig, axes = plt.subplots(1, 5, figsize=(20, 4))\n",
    "fig.suptitle(None,fontsize=12)\n",
    "Trials = [Trial1,Trial2,Trial3,Trial4,Trial5]\n",
    "for index, Trial in enumerate(Trials):\n",
    "    # Uses Gyroscope in x rads/s\n",
    "    time = Trial[\"Gyro\"].iloc[TimeTrimIndex:,0].values\n",
    "    angular_velocity = Trial[\"Gyro\"].iloc[TimeTrimIndex:,1].values\n",
    "\n",
    "    fft_result = np.fft.fft(angular_velocity)\n",
    "    fft_freqs = np.fft.fftfreq(len(fft_result), d=(time[1] - time[0]))\n",
    "\n",
    "    # Only Positives\n",
    "    positive_freqs = fft_freqs[:len(fft_freqs)//2]\n",
    "    magnitude = np.abs(fft_result)[:len(fft_result)//2]\n",
    "    ax = axes[index]\n",
    "    ax.plot(positive_freqs, magnitude, color='blue', label='Magnitude Spectrum')\n",
    "    peaks, _ = find_peaks(magnitude, height=1000)  # 1000 is good\n",
    "    f_0Peaks.append(positive_freqs[peaks[0]])\n",
    "    # THE PEAK ANNOTATER\n",
    "    PeaksAnnotate_YPos = [-10000,8000,1000]\n",
    "    for i, peak in enumerate(peaks):\n",
    "            ax.annotate(f'{positive_freqs[peak]:.3f} Hz', \n",
    "                     xy=(positive_freqs[peak], magnitude[peak]),\n",
    "                     xytext=(positive_freqs[peak]+1, magnitude[peak]+PeaksAnnotate_YPos[i]),  # +0.05,+0.1\n",
    "                     arrowprops=dict(facecolor='black', arrowstyle='-'),\n",
    "                     fontsize=12)\n",
    "    ax.set_title(f' Trial {index + 1} Frequency Spectrum')\n",
    "    ax.set_xlabel('Frequency (Hz)')\n",
    "    ax.set_ylabel('Spectrum (a.u.)')\n",
    "    ax.set_xlim(0,5) # Same as excerise sheet\n",
    "    ax.grid(False)\n",
    "\n",
    "plt.tight_layout()\n",
    "plt.show()"
   ]
  },
  {
   "cell_type": "markdown",
   "metadata": {
    "cell_id": "c223cd52153a49b2a764d56dcc2b35ce",
    "deepnote_app_block_visible": true,
    "deepnote_cell_type": "markdown"
   },
   "source": [
    "### Determing Mean Frequency and Uncertainty:"
   ]
  },
  {
   "cell_type": "code",
   "execution_count": null,
   "metadata": {
    "cell_id": "e5f5355f69fb41fda830156b12a21bdf",
    "deepnote_app_block_visible": true,
    "deepnote_cell_type": "code",
    "execution_context_id": "d6970745-394a-459e-82b1-4226d0f42ff1",
    "execution_millis": 1,
    "execution_start": 1730209316131,
    "source_hash": "1e18a735"
   },
   "outputs": [],
   "source": [
    "Mean_Freq = np.average(f_0Peaks)\n",
    "Freq_Variance = 0\n",
    "for i in f_0Peaks:\n",
    "    Freq_Variance += (i - Mean_Freq)**2\n",
    "MeanFreq = uc.ufloat(Mean_Freq, np.sqrt(Freq_Variance))\n",
    "Freq_Error = (np.abs(MeanFreq - Freq_Theoretical))\n",
    "print(f\"Frequency: {MeanFreq.nominal_value:.5f}±{MeanFreq.std_dev:.5f} Hz\")\n",
    "print(f\"Theoretical Frequency: {Freq_Theoretical.nominal_value:.5f}±{Freq_Theoretical.std_dev:.5f} Hz\\n\")\n",
    "print(f\"Absolute Error: {Freq_Error.nominal_value:.5f}±{Freq_Error.std_dev:.5f} Hz\")"
   ]
  },
  {
   "cell_type": "markdown",
   "metadata": {
    "cell_id": "b53216a7a52f49b7baa63db43a4892ea",
    "deepnote_app_block_visible": true,
    "deepnote_cell_type": "markdown"
   },
   "source": [
    "## TASK III\n",
    "\n",
    "        Determine the damping constant."
   ]
  },
  {
   "cell_type": "code",
   "execution_count": null,
   "metadata": {
    "cell_id": "8ba44a611371405eaef92361acfcf42d",
    "deepnote_app_block_visible": true,
    "deepnote_cell_type": "code",
    "execution_context_id": "d6970745-394a-459e-82b1-4226d0f42ff1",
    "execution_millis": 0,
    "execution_start": 1730209316187,
    "source_hash": "fa25ff51"
   },
   "outputs": [],
   "source": [
    "w_0 = Trial5[\"Gyro\"].iloc[(Trial5[\"Gyro\"][\"Gyroscope x (rad/s)\"].idxmax()),1]\n",
    "delta = []\n",
    "d = np.linspace(0,1,100000) # inference method requires a linear space of damping values\n",
    "SamplePoint = 9585 # Random sample chosen from random number generator\n",
    "t = Trial5[\"Gyro\"].iloc[SamplePoint,0]\n",
    "phi_dot = -(-phi_0.nominal_value)*np.exp(-d*t)*( d*np.cos( ( np.sqrt(w_0**2 - d**2)*t ) ) + np.sqrt(w_0**2 - d**2) * np.sin( np.sqrt(w_0**2 - d**2) * t ) )\n",
    "# Tolerance and near values are required due to both a different x-step\n",
    "# between time and d,\n",
    "# Note that d cannot be the same as time due to computer precision and rounding\n",
    "target = Trial5[\"Gyro\"].iloc[SamplePoint,1]\n",
    "tolerance = 0.001 \n",
    "near_values = phi_dot[np.abs(phi_dot - target) <= tolerance]\n",
    "indices_near_target = np.where(np.abs(phi_dot - target) <= tolerance)[0]\n",
    "phi_dot_near_target = []\n",
    "\n",
    "for j in indices_near_target:\n",
    "   phi_dot_near_target.append(float(d[j]))\n",
    "if len(phi_dot_near_target) > 0:\n",
    "    local_average = sum(phi_dot_near_target) / len(phi_dot_near_target)\n",
    "    chi_squared = 0\n",
    "    for phi_dot_i in phi_dot_near_target:\n",
    "        chi_squared += (phi_dot_i + local_average)**2\n",
    "    local_variance = chi_squared/(len(phi_dot_near_target)-1)\n",
    "    print(f'Damping Constant: {local_average:.8f}±{np.sqrt(local_variance):.8f} kg m²/s')\n",
    "    delta.append(local_average)\n",
    "    delta.append(local_variance)\n",
    "    RelUncertainty = np.sqrt(local_variance)/np.abs(local_average)\n",
    "    print(f\"Relative Combined Uncertainty: {RelUncertainty:.8f}\")\n"
   ]
  },
  {
   "cell_type": "code",
   "execution_count": null,
   "metadata": {
    "cell_id": "5902a5e65c2949df9e45bc0f21517128",
    "deepnote_app_block_visible": true,
    "deepnote_cell_type": "code",
    "execution_context_id": "d6970745-394a-459e-82b1-4226d0f42ff1",
    "execution_millis": 551,
    "execution_start": 1730209316238,
    "source_hash": "ddcd4ee0"
   },
   "outputs": [],
   "source": [
    "#Testing damping constant\n",
    "d = delta[0]\n",
    "wd = Mean_Freq*2*np.pi\n",
    "t = Trial5[\"Gyro\"].iloc[TimeTrimIndex:,0]\n",
    "\n",
    "\n",
    "phi_dot = -phi_0.nominal_value*np.exp(-d*t)*( d*np.cos( ( np.sqrt(wd**2 - d**2)*t ) ) + np.sqrt(wd**2 - d**2) * np.sin( np.sqrt(wd**2 - d**2) * t ) )\n",
    "fig = plt.figure(figsize=(10, 6))\n",
    "plt.plot(Trial5[\"Gyro\"].iloc[TimeTrimIndex:,0],Trial5[\"Gyro\"].iloc[TimeTrimIndex:,1],marker=False, label=\"Measured $\\\\omega_x$ (rad/s)\")\n",
    "plt.plot(t,phi_dot,color='green',marker=False,label=\"Theoretical $\\\\omega_x$ (rad/s)\")\n",
    "\n",
    "plt.title(\"Comparison of Damping Constants\")         \n",
    "plt.ylabel(\"rads/s\") \n",
    "plt.xlabel(\"time(s)\")\n",
    "\n",
    "plt.legend(\n",
    "                loc=\"upper right\",\n",
    "            bbox_to_anchor=(.97, 1),\n",
    "            fontsize=9, \n",
    "            handlelength=2.5, \n",
    "            labelspacing=0.2)\n",
    "\n",
    "plt.show()"
   ]
  },
  {
   "cell_type": "markdown",
   "metadata": {
    "cell_id": "aff29b234745434982c88b3f2deedec1",
    "deepnote_app_block_visible": true,
    "deepnote_cell_type": "markdown"
   },
   "source": [
    "## TASK IV\n",
    "\n",
    "        The acceleration and the linear acceleration are measured in the accelerated pendulum frame of reference. Calculate the acceleration and linear acceleration components using the measured angular velocity and compare to the measured acceleration and linear acceleration values (six plots)."
   ]
  },
  {
   "cell_type": "code",
   "execution_count": 13,
   "metadata": {
    "cell_id": "afb842fce4384504b2f4c8a2bbe43db3",
    "deepnote_app_block_visible": true,
    "deepnote_cell_type": "code",
    "execution_context_id": "d6970745-394a-459e-82b1-4226d0f42ff1",
    "execution_millis": 213,
    "execution_start": 1730209316894,
    "source_hash": "c48d0af2"
   },
   "outputs": [],
   "source": [
    "# Defining gravity vector and position vector\n",
    "Trial = Trial5\n",
    "r = np.array([0, 0, -l.nominal_value])\n",
    "\n",
    "# Gyro\n",
    "LinAcc_Offset = 7700 #Offset needed as t[i+1] - t[i] for LinAcc is larger than Gyro\n",
    "time_Gyro = np.array(Trial[\"Gyro\"].iloc[TimeTrimIndex:,0]).astype(float)\n",
    "w_x = np.array(Trial[\"Gyro\"].iloc[TimeTrimIndex:,1]).astype(float)\n",
    "w_y = np.zeros(len(time_Gyro))\n",
    "w_z = np.zeros(len(time_Gyro))\n",
    "\n",
    "w = np.array([w_x, w_y, w_z])\n",
    "\n",
    "# Acc\n",
    "time_Acc = np.array(Trial[\"Acc\"].iloc[TimeTrimIndex:,0]).astype(float)\n",
    "Acc_x = np.array(Trial[\"Acc\"].iloc[TimeTrimIndex:,1].values).astype(float)\n",
    "Acc_y = np.array(Trial[\"Acc\"].iloc[TimeTrimIndex:,2].values).astype(float)\n",
    "Acc_z = np.array(Trial[\"Acc\"].iloc[TimeTrimIndex:,3].values).astype(float)\n",
    "\n",
    "MeasuredAcc = np.array([Acc_x, Acc_y, Acc_z])\n",
    "\n",
    "# LinAcc\n",
    "time_LinAcc = np.array(Trial[\"LinAcc\"].iloc[TimeTrimIndex-LinAcc_Offset:,0]).astype(float)\n",
    "LinAcc_x = np.array(Trial[\"LinAcc\"].iloc[TimeTrimIndex-LinAcc_Offset:,1]).astype(float)\n",
    "LinAcc_y = np.array(Trial[\"LinAcc\"].iloc[TimeTrimIndex-LinAcc_Offset:,2]).astype(float)\n",
    "LinAcc_z = np.array(Trial[\"LinAcc\"].iloc[TimeTrimIndex-LinAcc_Offset:,3]).astype(float)\n",
    "\n",
    "MeasuredLinAcc = np.array([LinAcc_x, LinAcc_y, LinAcc_z])\n",
    "\n",
    "whi = np.sqrt(wd**2 - delta[0]**2) #2pi*f_d\n",
    "\n",
    "# Calculate the angularAcc for each axis over time\n",
    "alpha_x =-phi_0.nominal_value*np.exp(-delta[0]*time_Gyro)*(-delta[0]*(delta[0]*np.cos(whi*time_Gyro)+(whi*np.sin(whi*time_Gyro))) + \n",
    "                                                                      (whi*((whi*np.cos(whi*time_Gyro))-(delta[0]*np.sin(whi*time_Gyro))))) #np.gradient(w_x, time_Gyro)\n",
    "alpha_y =  np.zeros(len(time_Gyro))\n",
    "alpha_z =  np.zeros(len(time_Gyro))\n",
    "\n",
    "alpha = np.array([alpha_x, alpha_y, alpha_z])\n",
    "\n",
    "#Create Calculated Arrays\n",
    "CalculatedAcc = np.zeros((w.shape[1], 3), dtype=np.float64)\n",
    "CalculatedLinAcc = np.zeros((w.shape[1], 3), dtype=np.float64)\n",
    "\n",
    "# Calculate CalculatedArrays for each time step\n",
    "for i in range(w.shape[1]):\n",
    "    w_i = w[:, i]\n",
    "    alpha_i = alpha[:, i]\n",
    "    Phi = (phi_0.nominal_value)*np.cos(whi*time_Gyro[i])\n",
    "    \n",
    "    CalculatedAcc_x = 0\n",
    "    CalculatedAcc_y = -(g*np.sin(Phi))+(l.nominal_value*alpha_i[0])\n",
    "    CalculatedAcc_z = (g*np.cos(Phi))+(l.nominal_value*(w_i[0]**2))\n",
    "    CalculatedAcc[i] =   np.array([CalculatedAcc_x,CalculatedAcc_y,CalculatedAcc_z])\n",
    "\n",
    "    CalculatedLinAcc_x = 0\n",
    "    CalculatedLinAcc_y = (+l.nominal_value*alpha_i[0])\n",
    "    CalculatedLinAcc_z = (+l.nominal_value*(w_i[0]**2))\n",
    "    CalculatedLinAcc[i] = np.array([CalculatedLinAcc_x,CalculatedLinAcc_y,CalculatedLinAcc_z])\n",
    "\n"
   ]
  },
  {
   "cell_type": "code",
   "execution_count": null,
   "metadata": {
    "cell_id": "2803044281444f688209e666a43dd292",
    "deepnote_app_block_visible": true,
    "deepnote_cell_type": "code",
    "execution_context_id": "d6970745-394a-459e-82b1-4226d0f42ff1",
    "execution_millis": 2461,
    "execution_start": 1730209317159,
    "source_hash": "50eafb22"
   },
   "outputs": [],
   "source": [
    "fig, axes = plt.subplots(2, 3, figsize=(18, 8))\n",
    "names = ['X','Y','Z']\n",
    "fig.suptitle(\"Measured Acc vs Calculated Acc\",fontsize=20)\n",
    "for i in range(2):\n",
    "    for j in range(3):\n",
    "        ax = axes[i, j]\n",
    "        if i == 0:\n",
    "            ax.plot(time_Gyro,CalculatedAcc[:,j],color='green')\n",
    "            ax.plot(time_Acc,MeasuredAcc[j,:])\n",
    "            ax.set_title(f'Measured Vs Calculated {names[j]}-Acceleration')\n",
    "            ax.set_xlabel(\"Time (s)\")                 \n",
    "            ax.set_ylabel(f'Rads/s/s')   \n",
    "        else:\n",
    "            ax.plot(time_Gyro,CalculatedLinAcc[:,j],color='green')\n",
    "            ax.plot(time_LinAcc,MeasuredLinAcc[j,:])\n",
    "            ax.set_title(f'Measured Vs Calculated {names[j]}-LinAcc')\n",
    "            ax.set_xlabel(\"Time (s)\")                 \n",
    "            ax.set_ylabel(f'm/s^2')      \n",
    "\n",
    "\n",
    "legend_elements = [\n",
    "    mpl.lines.Line2D([0], [0], color='#1f77b4', label=\"Measured\"),  # Measured\n",
    "    mpl.lines.Line2D([0], [0], color='green', label=\"Calculated\")   # Calculated\n",
    "]\n",
    "\n",
    "# Add a single legend to the figure\n",
    "fig.legend(handles=legend_elements,\n",
    "            loc=\"upper right\",\n",
    "            bbox_to_anchor=(.97, 1),\n",
    "            fontsize=10, \n",
    "            handlelength=3, \n",
    "            labelspacing=0.3)\n",
    "\n",
    "plt.tight_layout()\n",
    "plt.show()"
   ]
  },
  {
   "cell_type": "markdown",
   "metadata": {
    "created_in_deepnote_cell": true,
    "deepnote_cell_type": "markdown"
   },
   "source": [
    "<a style='text-decoration:none;line-height:16px;display:flex;color:#5B5B62;padding:10px;justify-content:end;' href='https://deepnote.com?utm_source=created-in-deepnote-cell&projectId=34eaaa4d-5e3e-4f2f-81fa-8ed9da0e3e8c' target=\"_blank\">\n",
    "<img alt='Created in deepnote.com' style='display:inline;max-height:16px;margin:0px;margin-right:7.5px;' src='data:image/svg+xml;base64,PD94bWwgdmVyc2lvbj0iMS4wIiBlbmNvZGluZz0iVVRGLTgiPz4KPHN2ZyB3aWR0aD0iODBweCIgaGVpZ2h0PSI4MHB4IiB2aWV3Qm94PSIwIDAgODAgODAiIHZlcnNpb249IjEuMSIgeG1sbnM9Imh0dHA6Ly93d3cudzMub3JnLzIwMDAvc3ZnIiB4bWxuczp4bGluaz0iaHR0cDovL3d3dy53My5vcmcvMTk5OS94bGluayI+CiAgICA8IS0tIEdlbmVyYXRvcjogU2tldGNoIDU0LjEgKDc2NDkwKSAtIGh0dHBzOi8vc2tldGNoYXBwLmNvbSAtLT4KICAgIDx0aXRsZT5Hcm91cCAzPC90aXRsZT4KICAgIDxkZXNjPkNyZWF0ZWQgd2l0aCBTa2V0Y2guPC9kZXNjPgogICAgPGcgaWQ9IkxhbmRpbmciIHN0cm9rZT0ibm9uZSIgc3Ryb2tlLXdpZHRoPSIxIiBmaWxsPSJub25lIiBmaWxsLXJ1bGU9ImV2ZW5vZGQiPgogICAgICAgIDxnIGlkPSJBcnRib2FyZCIgdHJhbnNmb3JtPSJ0cmFuc2xhdGUoLTEyMzUuMDAwMDAwLCAtNzkuMDAwMDAwKSI+CiAgICAgICAgICAgIDxnIGlkPSJHcm91cC0zIiB0cmFuc2Zvcm09InRyYW5zbGF0ZSgxMjM1LjAwMDAwMCwgNzkuMDAwMDAwKSI+CiAgICAgICAgICAgICAgICA8cG9seWdvbiBpZD0iUGF0aC0yMCIgZmlsbD0iIzAyNjVCNCIgcG9pbnRzPSIyLjM3NjIzNzYyIDgwIDM4LjA0NzY2NjcgODAgNTcuODIxNzgyMiA3My44MDU3NTkyIDU3LjgyMTc4MjIgMzIuNzU5MjczOSAzOS4xNDAyMjc4IDMxLjY4MzE2ODMiPjwvcG9seWdvbj4KICAgICAgICAgICAgICAgIDxwYXRoIGQ9Ik0zNS4wMDc3MTgsODAgQzQyLjkwNjIwMDcsNzYuNDU0OTM1OCA0Ny41NjQ5MTY3LDcxLjU0MjI2NzEgNDguOTgzODY2LDY1LjI2MTk5MzkgQzUxLjExMjI4OTksNTUuODQxNTg0MiA0MS42NzcxNzk1LDQ5LjIxMjIyODQgMjUuNjIzOTg0Niw0OS4yMTIyMjg0IEMyNS40ODQ5Mjg5LDQ5LjEyNjg0NDggMjkuODI2MTI5Niw0My4yODM4MjQ4IDM4LjY0NzU4NjksMzEuNjgzMTY4MyBMNzIuODcxMjg3MSwzMi41NTQ0MjUgTDY1LjI4MDk3Myw2Ny42NzYzNDIxIEw1MS4xMTIyODk5LDc3LjM3NjE0NCBMMzUuMDA3NzE4LDgwIFoiIGlkPSJQYXRoLTIyIiBmaWxsPSIjMDAyODY4Ij48L3BhdGg+CiAgICAgICAgICAgICAgICA8cGF0aCBkPSJNMCwzNy43MzA0NDA1IEwyNy4xMTQ1MzcsMC4yNTcxMTE0MzYgQzYyLjM3MTUxMjMsLTEuOTkwNzE3MDEgODAsMTAuNTAwMzkyNyA4MCwzNy43MzA0NDA1IEM4MCw2NC45NjA0ODgyIDY0Ljc3NjUwMzgsNzkuMDUwMzQxNCAzNC4zMjk1MTEzLDgwIEM0Ny4wNTUzNDg5LDc3LjU2NzA4MDggNTMuNDE4MjY3Nyw3MC4zMTM2MTAzIDUzLjQxODI2NzcsNTguMjM5NTg4NSBDNTMuNDE4MjY3Nyw0MC4xMjg1NTU3IDM2LjMwMzk1NDQsMzcuNzMwNDQwNSAyNS4yMjc0MTcsMzcuNzMwNDQwNSBDMTcuODQzMDU4NiwzNy43MzA0NDA1IDkuNDMzOTE5NjYsMzcuNzMwNDQwNSAwLDM3LjczMDQ0MDUgWiIgaWQ9IlBhdGgtMTkiIGZpbGw9IiMzNzkzRUYiPjwvcGF0aD4KICAgICAgICAgICAgPC9nPgogICAgICAgIDwvZz4KICAgIDwvZz4KPC9zdmc+' > </img>\n",
    "Created in <span style='font-weight:600;margin-left:4px;'>Deepnote</span></a>"
   ]
  }
 ],
 "metadata": {
  "deepnote_app_layout": "powerful-article",
  "deepnote_app_reactivity_enabled": true,
  "deepnote_execution_queue": [],
  "deepnote_notebook_id": "cc559943ad1840de9d7cd2877a1e0c99",
  "kernelspec": {
   "display_name": "3.13.1",
   "language": "python",
   "name": "python3"
  },
  "language_info": {
   "codemirror_mode": {
    "name": "ipython",
    "version": 3
   },
   "file_extension": ".py",
   "mimetype": "text/x-python",
   "name": "python",
   "nbconvert_exporter": "python",
   "pygments_lexer": "ipython3",
   "version": "3.13.1"
  }
 },
 "nbformat": 4,
 "nbformat_minor": 0
}
