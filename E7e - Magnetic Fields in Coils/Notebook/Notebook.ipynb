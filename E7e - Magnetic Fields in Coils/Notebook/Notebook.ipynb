{
 "cells": [
  {
   "cell_type": "code",
   "execution_count": 2,
   "metadata": {
    "cell_id": "3b3444b63aef4dac97ae14e0bfd6d561",
    "deepnote_cell_type": "code",
    "execution_context_id": "1ef03503-c441-4ceb-8f5b-e6291e09af53",
    "execution_millis": 660,
    "execution_start": 1732298566755,
    "source_hash": "aa0a409a"
   },
   "outputs": [],
   "source": [
    "import numpy as np\n",
    "import matplotlib.pyplot as plt\n",
    "import pandas as pd\n",
    "from scipy.odr import ODR, Model, Data, RealData\n",
    "from scipy.optimize import curve_fit\n",
    "import seaborn as sns\n",
    "import uncertainties as uc\n",
    "from uncertainties.umath import sqrt\n",
    "from scipy.optimize import fsolve\n",
    "from scipy.interpolate import interp1d"
   ]
  },
  {
   "cell_type": "markdown",
   "metadata": {
    "cell_id": "9a67fb91e7944f4885610da63fff0a33",
    "deepnote_app_block_visible": false,
    "deepnote_cell_type": "markdown"
   },
   "source": [
    "### Formatting"
   ]
  },
  {
   "cell_type": "code",
   "execution_count": 3,
   "metadata": {
    "cell_id": "25ed6b8608544191b133906061f924b7",
    "deepnote_cell_type": "code",
    "execution_context_id": "7f083d77-723e-4354-8e19-eca93274ee29",
    "execution_millis": 1,
    "execution_start": 1732298567463,
    "source_hash": "22ef4930"
   },
   "outputs": [],
   "source": [
    "plt.style.use('Solarize_Light2')   #Options\n",
    "                                    #Solarize_Light2\n",
    "                                    #_classic_test_patch\n",
    "                                    #_mpl-gallery\n",
    "                                    #_mpl-gallery-nogrid\n",
    "                                    #bmh\n",
    "                                    #classic\n",
    "                                    #dark_background\n",
    "                                    #fast\n",
    "                                    #fivethirtyeight\n",
    "                                    #ggplot\n",
    "                                    #grayscale\n",
    "                                    #seaborn-v0_8\n",
    "                                    #seaborn-v0_8-bright\n",
    "                                    #seaborn-v0_8-colorblind\n",
    "                                    #seaborn-v0_8-dark\n",
    "                                    #seaborn-v0_8-dark-palette\n",
    "                                    #seaborn-v0_8-darkgrid\n",
    "                                    #seaborn-v0_8-deep\n",
    "                                    #seaborn-v0_8-muted\n",
    "                                    #seaborn-v0_8-notebook\n",
    "                                    #seaborn-v0_8-paper\n",
    "                                    #seaborn-v0_8-pastel\n",
    "                                    #seaborn-v0_8-poster\n",
    "                                    #seaborn-v0_8-talk\n",
    "                                    #seaborn-v0_8-ticks\n",
    "                                    #seaborn-v0_8-white\n",
    "                                    #seaborn-v0_8-whitegrid\n",
    "                                    #tableau-colorblind10\n",
    "\n",
    "plt.rcParams.update({\n",
    "\n",
    "    'figure.dpi': 225,                 # Resolution of figures\n",
    "    'font.size': 10,                   # Default font size\n",
    "    'font.family': 'sans-serif',       # Font family\n",
    "    'font.sans-serif': ['DejaVu Sans'],\n",
    "    \n",
    "    'axes.titlesize': 10,              # Title font size\n",
    "    'axes.labelsize': 8,              # Axis label font size\n",
    "    'axes.linewidth': 0.8,             # Width of the axis lines\n",
    "    'axes.grid': True,                 # Show grid\n",
    "    # 'grid.color': '#dddddd',\n",
    "    'grid.linestyle': '--',            # Grid line style (dashed)\n",
    "    'grid.linewidth': 0.5,             # Grid line width\n",
    "    \n",
    "    'xtick.labelsize': 8,             # X-axis tick label size\n",
    "    'ytick.labelsize': 8,             # Y-axis tick label size\n",
    "    'xtick.direction': 'in',           # X-axis tick direction\n",
    "    'ytick.direction': 'in',           # Y-axis tick direction\n",
    "\n",
    "    'lines.linewidth': 0.8,            # Line width for plots\n",
    "     'lines.markersize': 0.3,             # Marker size for scatter plots\n",
    "     'lines.marker': 'o',               # Default marker shape\n",
    "\n",
    "    'legend.frameon': True,            # Frame around legend\n",
    "    'legend.framealpha': 0.8,          # Transparency of legend frame\n",
    "    'legend.fontsize': 9,             # Font size in legend\n",
    "    'legend.loc': 'best',              # Default legend location\n",
    "})"
   ]
  },
  {
   "cell_type": "code",
   "execution_count": 4,
   "metadata": {
    "cell_id": "d6601fb027274a99b91baf0994efa2c8",
    "deepnote_cell_type": "code",
    "execution_context_id": "7f083d77-723e-4354-8e19-eca93274ee29",
    "execution_millis": 0,
    "execution_start": 1732298567516,
    "source_hash": "ad84b288"
   },
   "outputs": [],
   "source": [
    "# Errors functions\n",
    "def rSquared(f_model, x, y, Params):\n",
    "    y_pred = f_model(*Params, x)  \n",
    "    ss_res = np.sum((y - y_pred) ** 2)  \n",
    "    ss_tot = np.sum((y - np.mean(y)) ** 2)  \n",
    "    return 1 - (ss_res / ss_tot)\n",
    "\n",
    "def Residuals(y_measured,y_modelled):\n",
    "    return y_measured - y_modelled\n",
    "\n",
    "def MeanSquareError(y_measured,y_modelled):\n",
    "    return ((1/len(y_measured))*(np.sum((y_measured-y_modelled)**2)))\n",
    "\n",
    "def RootMeanSquareError(y_measured,y_modelled):\n",
    "    return np.sqrt(MeanSquareError(y_measured,y_modelled))\n",
    "\n",
    "def MeanAbsError(y_measured,y_modelled):\n",
    "    return ((1/len(y_measured))*(np.sum(np.abs(y_measured-y_modelled))))\n",
    "\n",
    "def ConfidenceInterval(y_measured,y_modelled,confInt=95):\n",
    "    if(confInt == 95):\n",
    "        Z = 1.96\n",
    "    elif(confInt == 90):\n",
    "        Z = 1.645\n",
    "    elif(confInt == 99):\n",
    "        Z = 2.576\n",
    "    return Z*np.sqrt((1/len(y_measured))*(np.sum((y_measured-y_modelled)**2)))\n",
    "\n",
    "def ArrayWithStaticUnc(Array,unc):\n",
    "    a = []\n",
    "    b = []\n",
    "    for i in range(len(Array)):\n",
    "            a.append(uc.ufloat(Array[i],unc))\n",
    "            b.append(unc)\n",
    "    return np.array(a), np.array(b)\n",
    "\n",
    "def UnpackUncArray(Array):\n",
    "     value = [Array[i].nominal_value for i in range(len(Array))]\n",
    "     std = [Array[i].std_dev for i in range(len(Array))]\n",
    "     return value,std \n",
    "\n",
    "\n",
    "\n",
    "# Non Linear Curve Fiting Function\n",
    "def NonLinAnalysis(f_model, x, y, ParamsArr, weights):\n",
    "    if ParamsArr is None:\n",
    "        Params = None\n",
    "        std = None \n",
    "        R2 = rSquared(f_model,x,y,Params)\n",
    "    else:\n",
    "        Params, cov = curve_fit(f_model, x, y, p0=ParamsArr, sigma=weights)\n",
    "        std = np.sqrt(np.diag(cov))\n",
    "        R2 = rSquared(f_model,x,y,Params)\n",
    "    return Params, std, R2\n",
    " \n",
    "def RR2(y,y_pred):\n",
    "   ss_res = np.sum((y - y_pred) ** 2)\n",
    "   ss_tot = np.sum((y - np.mean(y)) ** 2)\n",
    "   R2 = 1 - (ss_res / ss_tot)\n",
    "   return R2"
   ]
  },
  {
   "cell_type": "markdown",
   "metadata": {
    "cell_id": "4fbf9a397c614fb7a72acbcfa0a88575",
    "deepnote_app_block_visible": false,
    "deepnote_cell_type": "markdown"
   },
   "source": [
    "### Basic Functions"
   ]
  },
  {
   "cell_type": "code",
   "execution_count": 5,
   "metadata": {
    "cell_id": "0cd27259efb34c9d9a3010768353764d",
    "deepnote_cell_type": "code",
    "execution_context_id": "7f083d77-723e-4354-8e19-eca93274ee29",
    "execution_millis": 1,
    "execution_start": 1732298567567,
    "source_hash": "40660de6"
   },
   "outputs": [],
   "source": [
    "L_T1 = uc.ufloat(0.348,0.00522)  # m # solenoid 1 length \n",
    "R_T1 = uc.ufloat(0.0131,(0.0131*0.0001965))  #m #solenoid 1 radius \n",
    "I_T1 = uc.ufloat(0.999,0.0035)  # A\n",
    "n_T1 = 291 / L_T1 #m^-1 # coil density\n",
    "def Magfield(z): #NOTE: Eq. 5 for Task 1\n",
    "    MagFieldArray = []\n",
    "    z = z\n",
    "    for i in range(len(z)):\n",
    "        a = ((mu0*I_T1*n_T1)/2)*((z[i]/(sqrt(R_T1**2+z[i]**2)))+((L_T1-z[i])/(sqrt(R_T1**2+(L_T1-z[i])**2))))\n",
    "        MagFieldArray.append(a)\n",
    "    return np.array(MagFieldArray)\n",
    "\n",
    "R = uc.ufloat(0.068, 0.00102 ) #m\n",
    "I = uc.ufloat(0.999, 0.003495 ) #A \n",
    "N = 320 \n",
    "mu0 = 4*np.pi*10**(-7) #N/A^2\n",
    "\n",
    "def Bz(z): #CHANGED: added brackets around everything before * 10**6 NOTE: Eq. 9 For Task 2\n",
    "    BzArray = [] \n",
    "    for i in range(len(z)):\n",
    "        b = ((mu0 * I * N * R**2) / (2 * (R**2 + z[i]**2)**(3/2))) * 10**6 #μT\n",
    "        BzArray.append(b)\n",
    "    return np.array(BzArray)\n",
    "\n",
    "def Bz1(d, z): #NOTE: Eq. 10, For Task3\n",
    "    BzArr = []\n",
    "    for i in range(len(z)):\n",
    "        f = 1 / (R**2 + (z[i] - (d/2))**2)**(3/2)\n",
    "        e = 1 / (R**2 + (z[i] + (d/2))**2)**(3/2)\n",
    "        c = ((mu0 * I * N * R**2)/2) * (f + e) * 10**6 #μT\n",
    "        BzArr.append(c)\n",
    "    return np.array(BzArr)"
   ]
  },
  {
   "cell_type": "markdown",
   "metadata": {
    "cell_id": "2a19add46ab743c0bf4e580241ea23b8",
    "deepnote_app_block_visible": false,
    "deepnote_cell_type": "markdown"
   },
   "source": [
    "### Data Inputting"
   ]
  },
  {
   "cell_type": "code",
   "execution_count": null,
   "metadata": {
    "allow_embed": false,
    "cell_id": "ee19626341b24eeaac4e42d55404a0f2",
    "deepnote_cell_type": "code",
    "execution_context_id": "1ef03503-c441-4ceb-8f5b-e6291e09af53",
    "execution_millis": 365,
    "execution_start": 1732298567615,
    "source_hash": "a2b76ef5"
   },
   "outputs": [],
   "source": [
    "Task1 = pd.read_csv('Task1.csv')\n",
    "Task1[\"x'\"] = Task1[\"x'\"]*1e-3 \n",
    "Task1[\"x'mitUnc\"] = ArrayWithStaticUnc(Task1[\"x'\"],0.5*1e-3)[0]\n",
    "Task1[\"by\"] = Task1[\"by\"] + 23.6\n",
    "\n",
    "Task2 = pd.read_csv('data/Task2.csv')\n",
    "Task3 = pd.read_csv('data/Task3.csv')\n",
    "halfR = pd.read_csv('data/halfR.csv')\n",
    "Rvals = pd.read_csv('data/R.csv')\n",
    "doubleR = pd.read_csv('data/doubleR.csv')\n",
    "\n",
    "zi = Task2[\"x'\"]*1e-3  #m\n",
    "zimitUnc = ArrayWithStaticUnc(zi,0.5*10**(-3))[0]\n",
    "bzmeas = Task2['by'] + 14.4 #μT\n",
    "\n",
    "z1 = halfR[\"x'\"] * 10**(-3) #m \n",
    "zimitUnc1 = ArrayWithStaticUnc(z1,0.5*10**(-3))[0]\n",
    "bzmeas1 = halfR['by']+ 18.9  #μT\n",
    "\n",
    "z2 = Rvals[\"x'\"] * 10**(-3) #m\n",
    "zimitUnc2 = ArrayWithStaticUnc(z2,0.5*10**(-3))[0] \n",
    "bzmeas2 = Rvals['by'] + 26.4 #μT\n",
    "\n",
    "z3 = doubleR[\"x'\"] * 10**(-3) #m\n",
    "zimitUnc3 = ArrayWithStaticUnc(z3,0.5*10**(-3))[0]\n",
    "bzmeas3 = doubleR['by'] + 15.9 #μT"
   ]
  },
  {
   "cell_type": "markdown",
   "metadata": {
    "cell_id": "fad62a17b0db4c5c9e010564ae890932",
    "deepnote_app_block_visible": false,
    "deepnote_cell_type": "markdown"
   },
   "source": [
    "## Task 1\n",
    "1. Magnetic field distribution in a long solenoid\n",
    "b. Plot both the measured and calculated magnetic induction in one graph.\n",
    "c. Determine the magnetic induction at the end of the solenoid and compare experimental and\n",
    "theoretical values.\n"
   ]
  },
  {
   "cell_type": "code",
   "execution_count": null,
   "metadata": {
    "cell_id": "4bed279119ad4b5aad1090fdeda56220",
    "deepnote_cell_type": "code",
    "deepnote_table_loading": false,
    "deepnote_table_state": {
     "cellFormattingRules": [],
     "conditionalFilters": [],
     "filters": [],
     "pageIndex": 0,
     "pageSize": 100,
     "sortBy": [],
     "wrappedTextColumnIds": []
    },
    "execution_context_id": "7f083d77-723e-4354-8e19-eca93274ee29",
    "execution_millis": 0,
    "execution_start": 1732298568080,
    "source_hash": "d104ae3f"
   },
   "outputs": [],
   "source": [
    "Task1"
   ]
  },
  {
   "cell_type": "code",
   "execution_count": null,
   "metadata": {
    "cell_id": "a1c2910d84e44a08bb1f28b01d20d4df",
    "deepnote_cell_type": "code",
    "execution_context_id": "1ef03503-c441-4ceb-8f5b-e6291e09af53",
    "execution_millis": 517,
    "execution_start": 1732298568131,
    "source_hash": "ecc3c39a"
   },
   "outputs": [],
   "source": [
    "MagField = np.array(Magfield(Task1[\"x'mitUnc\"]))*1e6\n",
    "MagField_nom, MagField_std = np.array(UnpackUncArray(Magfield(Task1[\"x'mitUnc\"])))*1e6\n",
    "R2_T1 = RR2(Task1[\"by\"],MagField_nom)\n",
    "plt.figure(figsize=(8, 5))\n",
    "plt.ticklabel_format(axis='y', style='sci', scilimits=(1, 2))\n",
    "# plt.ticklabel_format(axis='x', style='sci', scilimits=(0, -2))\n",
    "plt.xticks([0.5,1.5,2.5,3.5],minor=True)\n",
    "plt.plot(Task1[\"x'\"],MagField_nom,color=\"red\", label = \"Theoretical\")\n",
    "plt.errorbar(Task1[\"x'\"],Task1[\"by\"],xerr=(np.ones(24)*0.5*1e-3),fmt='o',color=\"green\")\n",
    "plt.fill_between(Task1[\"x'\"],MagField_nom-MagField_std, MagField_nom+MagField_std,\n",
    "                    color=\"red\",alpha=0.3,label=\"Theo. Uncertainty\")\n",
    "plt.plot(Task1[\"x'\"],Task1[\"by\"], color=\"green\", label = \"Measured\")\n",
    "plt.axvline(0, color='gray', linestyle='--', label='Start of solenoid')\n",
    "plt.axvline(L_T1.nominal_value, color='gray', linestyle='--', label='End of solenoid')\n",
    "plt.xlabel(r'Z (m)')\n",
    "plt.ylabel(r'Magnetic Field $B(z)$ ($\\mu$T)')\n",
    "plt.title('Magnetic Field along Solenoid Axis')\n",
    "Table_T1 = [[f'R²', f'{R2_T1:.4f}']]\n",
    "plt.table(cellText= Table_T1,\n",
    "                 loc='center',\n",
    "                 cellLoc='center',\n",
    "                 colWidths=[0.1,0.1],\n",
    "                 alpha=0.7,\n",
    "                 bbox=[0.65,0.1,0.2,0.05],zorder=100)\n",
    "plt.legend(fontsize = 9)\n",
    "plt.grid(True)\n",
    "plt.show()"
   ]
  },
  {
   "cell_type": "code",
   "execution_count": null,
   "metadata": {
    "cell_id": "14c5093ac7954dd0a67eb7fc6b6f524a",
    "deepnote_cell_type": "code",
    "execution_context_id": "1ef03503-c441-4ceb-8f5b-e6291e09af53",
    "execution_millis": 559,
    "execution_start": 1732298568704,
    "source_hash": "66df1b4f"
   },
   "outputs": [],
   "source": [
    "fig, axs = plt.subplots(1, 2, figsize=(14, 6))\n",
    "axs[1].ticklabel_format(axis='y', style='sci', scilimits=(1, 2))\n",
    "# axs[1].ticklabel_format(axis='x', style='sci', scilimits=(0, -2))\n",
    "axs[1].plot(Task1[\"x'\"][20:24],MagField_nom[20:24],color=\"red\", label = \"Theoretical\")\n",
    "axs[1].errorbar(Task1[\"x'\"][20:24],Task1[\"by\"][20:24],xerr=(np.ones(4)*0.5*1e-3),fmt='o',color=\"green\",capsize=2)\n",
    "axs[1].fill_between(Task1[\"x'\"][20:24],MagField_nom[20:24]-MagField_std[20:24],MagField_nom[20:24]+MagField_std[20:24],\n",
    "            color=\"#e75480\",alpha=0.3,label=\"Theo. Uncertainty\")\n",
    "axs[1].plot(Task1[\"x'\"][20:24],Task1[\"by\"][20:24], color=\"green\", label = \"Measured\")\n",
    "axs[1].scatter([.348,.348],[350,516],s=10,color=\"lightblue\",edgecolors='k',linewidth=0.5,zorder=10,label = \"Interpolated Values\")\n",
    "axs[1].annotate(r\"$350\\cdot{}\\mu T$\",[.3485,355],fontsize=6, zorder=10)\n",
    "axs[1].annotate(r\"$516\\cdot{}\\mu T$\",[.3485,516.5],fontsize=6, zorder=10)\n",
    "# axs[1].errorbar([347.5,347],[35,516],yerr=[33,5],fmt='o',color=\"lightblue\")\n",
    "axs[1].axvline(L_T1.nominal_value, color='gray', linestyle='--', label='End of solenoid')\n",
    "axs[1].set_xlabel(r'Z (m)')\n",
    "axs[1].set_ylabel(r'Magnetic Field $B(z)$ ($\\mu$T)')\n",
    "axs[1].set_title('Magnetic Field at End of Solenoid Axis')\n",
    "axs[1].grid(True)\n",
    "axs[1].legend()\n",
    "\n",
    "#plt.ticklabel_format(axis='y', style='sci', scilimits=(1, 2))\n",
    "#plt.ticklabel_format(axis='x', style='sci', scilimits=(0, -2))\n",
    "\n",
    "\n",
    "axs[0].ticklabel_format(axis='y', style='sci', scilimits=(1, 2))\n",
    "# axs[0].ticklabel_format(axis='x', style='sci', scilimits=(-2, 2))\n",
    "axs[0].plot(Task1[\"x'\"][0:4],MagField_nom[0:4],color=\"red\", label = \"Theoretical\")\n",
    "axs[0].errorbar(Task1[\"x'\"][0:4],Task1[\"by\"][0:4],xerr=(np.ones(4)*0.5*1e-3),fmt='o',color=\"green\",capsize=2)\n",
    "axs[0].fill_between(Task1[\"x'\"][0:4],MagField_nom[0:4]-MagField_std[0:4],MagField_nom[0:4]+MagField_std[0:4],\n",
    "            color=\"#e75480\",alpha=0.3,label=\"Theo. Uncertainty\")\n",
    "axs[0].plot(Task1[\"x'\"][0:4],Task1[\"by\"][0:4], color=\"green\", label = \"Measured\")\n",
    "axs[0].axvline(0, color='gray', linestyle='--', label='Start of solenoid')\n",
    "axs[0].set_xlabel(r'Z (m)')\n",
    "axs[0].set_ylabel(r'Magnetic Field $B(z)$ ($\\mu$T)')\n",
    "axs[0].set_title('Magnetic Field at Beginning of Solenoid Axis')\n",
    "axs[0].grid(True)\n",
    "axs[0].legend()\n",
    "\n",
    "#axs[1].scatter([348],[0.000332],s=1,color=\"black\",edgecolors='k',linewidth=0.5,zorder=10)\n",
    "#axs[1].scatter([348],[0.000698],s=1,color=\"black\",edgecolors='k',linewidth=0.5,zorder=10)\n",
    "plt.show()"
   ]
  },
  {
   "cell_type": "code",
   "execution_count": null,
   "metadata": {
    "cell_id": "37c59ac0fa484edba37f10754028fd0d",
    "deepnote_cell_type": "code",
    "execution_context_id": "7f083d77-723e-4354-8e19-eca93274ee29",
    "execution_millis": 1,
    "execution_start": 1732298569311,
    "source_hash": "39da22d3"
   },
   "outputs": [],
   "source": [
    "# Finding gradient between two points on either side of 348, for both measured and calculated values to determined respective values at L=348mm\n",
    "MeasuredGrad = (Task1[\"by\"][21] - Task1[\"by\"][20])/(Task1[\"x'mitUnc\"][21] - Task1[\"x'mitUnc\"][20])\n",
    "TheoreticalGrad = (MagField[21] - MagField[20])/(Task1[\"x'mitUnc\"][21] - Task1[\"x'mitUnc\"][20])\n",
    "print(MeasuredGrad)\n",
    "print(TheoreticalGrad)\n",
    "MeasuredInterpolatedEndValue = MeasuredGrad*(L_T1 - Task1[\"x'mitUnc\"][20]) + (Task1[\"by\"][20])\n",
    "TheoreticalInterpolatedEndValue = TheoreticalGrad*(L_T1 - Task1[\"x'mitUnc\"][20]) + MagField[20]\n",
    "print()\n",
    "print(MeasuredInterpolatedEndValue)\n",
    "print(TheoreticalInterpolatedEndValue) "
   ]
  },
  {
   "cell_type": "code",
   "execution_count": null,
   "metadata": {
    "cell_id": "44a1ca1b632140ad87fafba7186baf91",
    "deepnote_cell_type": "code",
    "execution_context_id": "4cc17c09-ae6f-41c9-acab-e18922aa21d2",
    "execution_millis": 227,
    "execution_start": 1732298569356,
    "source_hash": "9928fe04"
   },
   "outputs": [],
   "source": [
    "# a = [Task1[\"x'\"][0],Task1[\"x'\"][1],Task1[\"x'\"][2],Task1[\"x'\"][3],348,Task1[\"x'\"][21],Task1[\"x'\"][22],Task1[\"x'\"][23]]\n",
    "# b = [Task1[\"by\"][0]*1e-6,Task1[\"by\"][1]*1e-6,Task1[\"by\"][2]*1e-6,Task1[\"by\"][3]*1e-6,0.00035,Task1[\"by\"][21]*1e-6,Task1[\"by\"][22]*1e-6,Task1[\"by\"][23]*1e-6]\n",
    "# c = [MagField_nom[0],MagField_nom[1],MagField_nom[2],MagField_nom[3],0.000516,MagField_nom[21],MagField_nom[22],MagField_nom[23]]\n",
    "a = [Task1[\"x'\"][3],348]\n",
    "b = [Task1[\"by\"][3],350]\n",
    "c = [MagField_nom[3],516]\n",
    "cerr = [MagField_std[3],182]\n",
    "plt.figure(figsize=(8,6),dpi=200)\n",
    "plt.ticklabel_format(axis='y', style='sci', scilimits=(-2, 2))\n",
    "plt.xticks(ticks=[0,348],labels=['Solenoid Start', 'Solenoid End'])\n",
    "plt.xlim(-200,548)\n",
    "plt.scatter(a,b,s=10,color=\"green\",edgecolors='k',linewidth=0.5,zorder=10, label=\"Measured\")\n",
    "plt.scatter(a,c,s=10,color=\"#e75480\",edgecolors='k',linewidth=0.5,zorder=10,label=\"Theoretical\")\n",
    "plt.errorbar(a,c,yerr=cerr,fmt=\"o\",capsize=2,color=\"#e75480\")\n",
    "plt.legend()\n",
    "plt.ylabel(r'Magnetic Field $B(z)$ ($\\mu$T)')\n",
    "plt.title(\"Solenoid End Points\")\n",
    "plt.show()"
   ]
  },
  {
   "cell_type": "code",
   "execution_count": null,
   "metadata": {
    "cell_id": "141a9495229640d6b473dbbd9c384d5e",
    "deepnote_cell_type": "code",
    "execution_context_id": "7f083d77-723e-4354-8e19-eca93274ee29",
    "execution_millis": 1,
    "execution_start": 1732298569635,
    "source_hash": "57182016"
   },
   "outputs": [],
   "source": [
    "measured_start = Task1['by'][3]\n",
    "measured_end = 0.00035*1e6\n",
    "calculated_start = MagField[3]\n",
    "calculated_end = uc.ufloat(0.000516,0.000182)*1e6\n",
    "print(f\"Measured \\n Start: {measured_start} \\n End: {measured_end}\")\n",
    "print(f\"Calculated \\n Start: {calculated_start} \\n End: {calculated_end}\\n\")\n",
    "\n",
    "\n",
    "abs_error_start = abs(calculated_start - measured_start)\n",
    "rel_error_start = (abs_error_start / measured_start) * 100\n",
    "\n",
    "abs_error_end = abs(calculated_end - measured_end)\n",
    "rel_error_end = (abs_error_end / measured_end) * 100\n",
    "\n",
    "\n",
    "print(f\"Start Absolute Error: {abs_error_start:.2f}\")\n",
    "print(f\"Start Relative Error: {rel_error_start:.2f}%\")\n",
    "print(f\"End Absolute Error: {abs_error_end:.2f}\")\n",
    "print(f\"End Relative Error: {rel_error_end:.2f}%\")"
   ]
  },
  {
   "cell_type": "markdown",
   "metadata": {
    "cell_id": "e4dbd865a5c04f1eb14d854cbe035dba",
    "deepnote_app_block_visible": false,
    "deepnote_cell_type": "markdown"
   },
   "source": [
    "## Task 2"
   ]
  },
  {
   "cell_type": "markdown",
   "metadata": {
    "cell_id": "618119dbf35f46e0a83a5550e21af917",
    "deepnote_app_block_visible": false,
    "deepnote_cell_type": "markdown"
   },
   "source": [
    "#### a. Measure the magnetic induction B(z) along the coil axis z of a flat solenoid."
   ]
  },
  {
   "cell_type": "code",
   "execution_count": null,
   "metadata": {
    "cell_id": "c7fa30651fe74c65bf859123f88d81b5",
    "deepnote_cell_type": "code",
    "execution_context_id": "7f083d77-723e-4354-8e19-eca93274ee29",
    "execution_millis": 1,
    "execution_start": 1732298569684,
    "source_hash": "16a99171"
   },
   "outputs": [],
   "source": [
    "Task2"
   ]
  },
  {
   "cell_type": "code",
   "execution_count": null,
   "metadata": {
    "cell_id": "92c881b4c9c04695bbac8893d9b32287",
    "deepnote_cell_type": "code",
    "execution_context_id": "a8babf90-e6e2-41a9-97b0-ba59313d08bd",
    "execution_millis": 243,
    "execution_start": 1732298569740,
    "source_hash": "ae7db5dd"
   },
   "outputs": [],
   "source": [
    "plt.figure(figsize=(8,6),dpi=200)\n",
    "plt.plot(zi, bzmeas)\n",
    "plt.xlabel('z (m)')\n",
    "# CHANGED: Added scilimit \n",
    "plt.ticklabel_format(axis='y', style='sci', scilimits=(-2, 2))\n",
    "plt.ylabel('B (µT)')\n",
    "plt.title('Measured Magnetic Induction along the z axis of the Flat Coil')\n",
    "plt.show()"
   ]
  },
  {
   "cell_type": "code",
   "execution_count": null,
   "metadata": {
    "cell_id": "cd1b1d6c67f04181bb298bad9d08faf0",
    "deepnote_cell_type": "code",
    "execution_context_id": "7f083d77-723e-4354-8e19-eca93274ee29",
    "execution_millis": 247,
    "execution_start": 1732298570035,
    "source_hash": "99e9dbef"
   },
   "outputs": [],
   "source": [
    "plt.figure(figsize=(8,6),dpi=200)\n",
    "bzcalc = np.array(Bz(zimitUnc))\n",
    "bzcalc_nom, bzcalc_std = np.array(UnpackUncArray(bzcalc))\n",
    "plt.plot(zi, bzcalc_nom, label='Calculated')\n",
    "plt.xlabel('z (m)')\n",
    "plt.ylabel('B (µT)')\n",
    "plt.ticklabel_format(axis='y', style='sci', scilimits=(-2, 2))\n",
    "plt.title('Calculated Magnetic Induction along the z axis of the Flat Coil')\n",
    "plt.show()"
   ]
  },
  {
   "cell_type": "markdown",
   "metadata": {
    "cell_id": "4b28f4f8941b4bf5b7494f4a3f8ec9b7",
    "deepnote_app_block_visible": false,
    "deepnote_cell_type": "markdown"
   },
   "source": [
    "#### b. Plot both the measured and calculated magnetic induction in one graph."
   ]
  },
  {
   "cell_type": "code",
   "execution_count": null,
   "metadata": {
    "cell_id": "a0ce423425bd465eb1c50ec028850b01",
    "deepnote_cell_type": "code",
    "execution_context_id": "1ef03503-c441-4ceb-8f5b-e6291e09af53",
    "execution_millis": 405,
    "execution_start": 1732298570331,
    "source_hash": "8f69ea39"
   },
   "outputs": [],
   "source": [
    "R2 = RR2(bzmeas,bzcalc_nom)\n",
    "plt.figure(figsize=(8, 5))\n",
    "plt.ticklabel_format(axis='y', style='sci', scilimits=(1, 2))\n",
    "# plt.ticklabel_format(axis='x', style='sci', scilimits=(0, -2))\n",
    "plt.xticks([0.5,1.5,2.5,3.5],minor=True)\n",
    "plt.plot(zi, bzcalc_nom, color=\"green\", label = \"Calculated\")\n",
    "\n",
    "plt.errorbar(zi , bzmeas, xerr=(np.ones(21)*0.5*1e-3),fmt='o',color=\"green\")  \n",
    "plt.fill_between(zi, bzcalc_nom - bzcalc_std, bzcalc_nom + bzcalc_std, color=\"#e75480\",alpha=0.3,label=\"Uncertainty\")\n",
    "plt.plot(zi, bzmeas, color=\"blue\", label = \"Measured\")\n",
    "\n",
    "plt.table(cellText=[[f'R² = {R2:.4f}'], ],\n",
    "                 loc='center left',\n",
    "                 cellLoc='center',\n",
    "                 colWidths=[0.2],\n",
    "                 alpha=0.7)\n",
    "plt.xlabel('z (m)')\n",
    "plt.ylabel('B (µT)')\n",
    "plt.title('Magnetic Induction along the z axis of One Flat Coil')\n",
    "plt.legend()\n",
    "plt.show()\n",
    "print(bzcalc_std)"
   ]
  },
  {
   "cell_type": "markdown",
   "metadata": {
    "cell_id": "09ff90f2ba2146ae88522a4614634c58",
    "deepnote_app_block_visible": false,
    "deepnote_cell_type": "markdown"
   },
   "source": [
    "#### c. Determine at which distance from the coil center the maximum magnetic induction has decreased to half its value. Compare experimental and theoretical values."
   ]
  },
  {
   "cell_type": "code",
   "execution_count": null,
   "metadata": {
    "cell_id": "037fef6706cf433d94de983da3b66d21",
    "deepnote_cell_type": "code",
    "execution_context_id": "1ef03503-c441-4ceb-8f5b-e6291e09af53",
    "execution_millis": 1,
    "execution_start": 1732298570783,
    "source_hash": "9e94258"
   },
   "outputs": [],
   "source": [
    "#theoretical \n",
    "bzmaxt = np.max(bzcalc_nom)\n",
    "halfbzmaxt = 0.5 * bzmaxt\n",
    "bzinterpt = interp1d(zi, bzcalc_nom, kind='cubic', fill_value=\"extrapolate\")\n",
    "def equation(zi):\n",
    "    return bzinterpt(zi) - halfbzmaxt\n",
    "z_g = zi[np.argmax(bzcalc_nom)] \n",
    "zhalft = fsolve(equation, R.nominal_value) \n",
    "print(f\"Theoretical value of the distance from the center of the coil where the magnetic field is half of its maximum value is: \", zhalft[0])\n",
    "\n",
    "#experimental\n",
    "bzmaxe = np.max(bzmeas)\n",
    "halfbzmaxe = 0.5 * bzmaxe\n",
    "bz_interp = interp1d(zi, bzmeas, kind='cubic', fill_value=\"extrapolate\")\n",
    "def equation(zi):\n",
    "    return bz_interp(zi) - halfbzmaxe\n",
    "z_g = zi[np.argmax(bzmeas)] \n",
    "zhalfe= fsolve(equation, z_g)\n",
    "\n",
    "print(f\"Experimental value of the distance from the center of the coil where the magnetic field is half of its maximum value is: {zhalfe[0]:.8f} meters.\")\n"
   ]
  },
  {
   "cell_type": "markdown",
   "metadata": {
    "cell_id": "4e5e99afb1cf44d0bedc1dc03b13f78f",
    "deepnote_app_block_visible": false,
    "deepnote_cell_type": "markdown",
    "execution_context_id": "0408aa5c-4913-4b6f-b070-6344fdc70625",
    "execution_millis": 0,
    "execution_start": 1731883754749,
    "source_hash": "b623e53d"
   },
   "source": [
    "### Task 3"
   ]
  },
  {
   "cell_type": "markdown",
   "metadata": {
    "cell_id": "0380ca460c144c98a1261c1dff72def4",
    "deepnote_app_block_visible": false,
    "deepnote_cell_type": "markdown",
    "execution_context_id": "d3086734-9f83-412c-b683-428ba8f712a6",
    "execution_millis": 0,
    "execution_start": 1731883754797,
    "source_hash": "b623e53d"
   },
   "source": [
    "#### a. Measure the axial magnetic induction B(z) of a pair of flat coils for three distances b between the coils: b = 2R, b = R, b = R/2 (R: coil radius)."
   ]
  },
  {
   "cell_type": "code",
   "execution_count": null,
   "metadata": {
    "cell_id": "2bdb33872097404ea31c906a1f9c0fa1",
    "deepnote_cell_type": "code",
    "execution_context_id": "1ef03503-c441-4ceb-8f5b-e6291e09af53",
    "execution_millis": 233,
    "execution_start": 1732298570827,
    "source_hash": "3cc03571"
   },
   "outputs": [],
   "source": [
    "plt.plot(z1, bzmeas1, label='d = R/2', color='red')\n",
    "plt.plot(z2, bzmeas2, label='d = R', color='green')\n",
    "plt.plot(z3, bzmeas3, label='d = 2R', color='blue')\n",
    "plt.xlabel('z (m)')\n",
    "plt.ylabel('B (µT)')\n",
    "#CHANGED: Added Scilimits\n",
    "plt.ticklabel_format(axis='y', style='sci', scilimits=(-2, 2))\n",
    "plt.title('Measured Magnetic Induction')\n",
    "plt.legend()\n",
    "plt.show()"
   ]
  },
  {
   "cell_type": "markdown",
   "metadata": {
    "cell_id": "23c9e65ff2b040d7aa24fb0e1921c36e",
    "deepnote_app_block_visible": false,
    "deepnote_cell_type": "markdown"
   },
   "source": [
    "#### b. Plot both the measured and calculated magnetic induction. "
   ]
  },
  {
   "cell_type": "code",
   "execution_count": null,
   "metadata": {
    "cell_id": "67b10a120ce948ddb3898ef16d6d71c8",
    "deepnote_cell_type": "code",
    "execution_context_id": "1ef03503-c441-4ceb-8f5b-e6291e09af53",
    "execution_millis": 526,
    "execution_start": 1732298571111,
    "source_hash": "579991d4"
   },
   "outputs": [],
   "source": [
    "d1 = uc.ufloat(0.034, 0.00051) #m\n",
    "bzcalc1 = np.array(Bz1(d1, zimitUnc1))\n",
    "bzcalc_nom1, bzcalc_std1 = np.array(UnpackUncArray(bzcalc1))\n",
    "R21 = RR2(bzmeas1,bzcalc_nom1)\n",
    "\n",
    "\n",
    "plt.figure(figsize=(8, 5))\n",
    "plt.ticklabel_format(axis='y', style='sci', scilimits=(1, 2))\n",
    "# plt.ticklabel_format(axis='x', style='sci', scilimits=(0, -2))\n",
    "plt.xticks([0.5,1.5,2.5,3.5],minor=True)\n",
    "\n",
    "plt.plot(z1, bzcalc_nom1, label='Calculated', color='green')\n",
    "plt.errorbar(z1 , bzmeas1, xerr=(np.ones(21)*0.5*1e-3),fmt='o',color=\"green\")\n",
    "plt.fill_between(z1, bzcalc_nom1 - bzcalc_std1, bzcalc_nom1 + bzcalc_std1, color=\"#e75480\",alpha=0.3,label=\"Uncertainty\")\n",
    "plt.plot(z1, bzmeas1, color=\"blue\", label = \"Measured\")\n",
    "\n",
    "plt.title('Magnetic Induction for Two Coil at distance D = R/2')\n",
    "plt.table(cellText=[[f'R² = {R21:.4f}']],\n",
    "                 loc='center left',\n",
    "                 cellLoc='center',\n",
    "                 colWidths=[0.2],\n",
    "                 alpha=0.7)\n",
    "plt.xlabel('z (m)')\n",
    "plt.ylabel('B (µT)')\n",
    "plt.legend()\n",
    "plt.show()\n"
   ]
  },
  {
   "cell_type": "code",
   "execution_count": null,
   "metadata": {
    "cell_id": "f0ac77d3c97d415eb43a1d4e9342e247",
    "deepnote_cell_type": "code",
    "execution_context_id": "1ef03503-c441-4ceb-8f5b-e6291e09af53",
    "execution_millis": 452,
    "execution_start": 1732298571692,
    "source_hash": "f6ad241e"
   },
   "outputs": [],
   "source": [
    "d2 = uc.ufloat(0.068, 0.00102) #m\n",
    "bzcalc2 = np.array(Bz1(d2, zimitUnc2))\n",
    "bzcalc_nom2, bzcalc_std2 = np.array(UnpackUncArray(bzcalc2))\n",
    "R22 = RR2(bzmeas2,bzcalc_nom2)\n",
    "\n",
    "plt.figure(figsize=(8, 5))\n",
    "plt.ticklabel_format(axis='y', style='sci', scilimits=(1, 2))\n",
    "# plt.ticklabel_format(axis='x', style='sci', scilimits=(0, -2))\n",
    "plt.xticks([0.5,1.5,2.5,3.5],minor=True)\n",
    "\n",
    "plt.plot(z2, bzcalc_nom2, label='Calculated', color='green')\n",
    "plt.errorbar(z2 , bzmeas2, xerr=(np.ones(21)*0.5*1e-3),fmt='o',color=\"green\")\n",
    "plt.fill_between(z2, bzcalc_nom2 - bzcalc_std2, bzcalc_nom2 + bzcalc_std2, color=\"#e75480\",alpha=0.3,label=\"Uncertainty\")\n",
    "plt.plot(zi, bzmeas2, color=\"blue\", label = \"Measured\")\n",
    "\n",
    "plt.title('Magnetic Induction for Two Coil at distance D = R')\n",
    "plt.table(cellText=[[f'R² = {R22:.4f}']],\n",
    "                 loc='center',\n",
    "                 cellLoc='center',\n",
    "                 colWidths=[0.2],\n",
    "                 alpha=0.7)\n",
    "plt.xlabel('z (m)')\n",
    "plt.ylabel('B (µT)')\n",
    "plt.legend()\n",
    "plt.show()\n",
    "\n"
   ]
  },
  {
   "cell_type": "code",
   "execution_count": null,
   "metadata": {
    "cell_id": "3597c74b181149c6883bca7064363b94",
    "deepnote_cell_type": "code",
    "execution_context_id": "1ef03503-c441-4ceb-8f5b-e6291e09af53",
    "execution_millis": 431,
    "execution_start": 1732298572204,
    "source_hash": "55157272"
   },
   "outputs": [],
   "source": [
    "d3 = uc.ufloat(0.136, 0.00241) #m\n",
    "bzcalc3 = np.array(Bz1(d3, zimitUnc3))\n",
    "bzcalc_nom3, bzcalc_std3 = np.array(UnpackUncArray(bzcalc3))\n",
    "R23 = RR2(bzmeas3,bzcalc_nom3)\n",
    "\n",
    "plt.figure(figsize=(8, 5))\n",
    "plt.ticklabel_format(axis='y', style='sci', scilimits=(1, 2))\n",
    "# plt.ticklabel_format(axis='x', style='sci', scilimits=(0, -2))\n",
    "plt.xticks([0.5,1.5,2.5,3.5],minor=True)\n",
    "\n",
    "plt.plot(z3, bzcalc_nom3, label='Calculated', color='green')\n",
    "plt.errorbar(z3 , bzmeas3, xerr=(np.ones(25)*0.5*1e-3),fmt='o',color=\"green\")\n",
    "plt.fill_between(z3, bzcalc_nom3-bzcalc_std3, bzcalc_nom3+bzcalc_std3,\n",
    "                    color=\"#e75480\",alpha=0.3,label=\"Uncertainty\")\n",
    "plt.plot(z3, bzmeas3, color=\"blue\", label = \"Measured\")\n",
    "\n",
    "plt.title('Magnetic Induction for Two Coil at distance D = 2R')\n",
    "plt.table(cellText=[[f'R² = {R23:.4f}']],\n",
    "                 loc='lower right',\n",
    "                 cellLoc='center',\n",
    "                 colWidths=[0.2],\n",
    "                 alpha=0.7)\n",
    "plt.xlabel('z (m)')\n",
    "plt.ylabel('B (µT)')\n",
    "plt.legend()\n",
    "plt.show()\n"
   ]
  },
  {
   "cell_type": "markdown",
   "metadata": {
    "cell_id": "e4240699cecd4456aaa77b7751630353",
    "deepnote_app_block_visible": false,
    "deepnote_cell_type": "markdown"
   },
   "source": [
    "#### c. For the Helmholtz configuration, determine theoretically and experimentally the region with a deviation of the magnetic induction less than 5% from its central value."
   ]
  },
  {
   "cell_type": "code",
   "execution_count": null,
   "metadata": {
    "cell_id": "dcc98cecaedf4a4081e9ff4449c2ae52",
    "deepnote_cell_type": "code",
    "execution_context_id": "1ef03503-c441-4ceb-8f5b-e6291e09af53",
    "execution_millis": 0,
    "execution_start": 1732298572684,
    "source_hash": "37609947"
   },
   "outputs": [],
   "source": [
    "#theoretical\n",
    "b01 = (mu0 * N * I) / ((17 / 16)**(3/2) * R) * 10**6\n",
    "bzinterest = interp1d(z1, bzcalc_nom1, kind='cubic', fill_value=\"extrapolate\")\n",
    "def deviation(z1):\n",
    "    return abs(bzinterest(z1) - b01.nominal_value) - 0.05 * b01.nominal_value\n",
    "z_positive = fsolve(deviation, [0.05])\n",
    "\n",
    "print(f\"The theoretical region with less than 5% deviation is\", z_positive)\n",
    "\n",
    "#experimental\n",
    "Be0 = bzmeas1[np.argmin(np.abs(z1))]\n",
    "\n",
    "tolerance = 0.05 * Be0\n",
    "deviation = np.abs(bzmeas1 - Be0)\n",
    "valid_indices = np.where(deviation <= tolerance)[0]\n",
    "\n",
    "z_min = z1[valid_indices[0]]\n",
    "z_max = z1[valid_indices[-1]]\n",
    "print(f\"The experimental region with less than 5% deviation is from {z_max:.8f} to {z_min:.8f} meters.\")"
   ]
  },
  {
   "cell_type": "code",
   "execution_count": null,
   "metadata": {
    "cell_id": "68520dd03c03435e8d5ba46cf12d22b8",
    "deepnote_cell_type": "code",
    "execution_context_id": "1ef03503-c441-4ceb-8f5b-e6291e09af53",
    "execution_millis": 1,
    "execution_start": 1732298572735,
    "source_hash": "99a37254"
   },
   "outputs": [],
   "source": [
    "print(valid_indices)\n",
    "# print(z1)\n",
    "print(np.abs(bzmeas1 - Be0))\n",
    "print(Be0 * 0.05) "
   ]
  },
  {
   "cell_type": "code",
   "execution_count": null,
   "metadata": {
    "cell_id": "560904255d0a412581892069d002bd62",
    "deepnote_cell_type": "code",
    "execution_context_id": "1ef03503-c441-4ceb-8f5b-e6291e09af53",
    "execution_millis": 1,
    "execution_start": 1732298572787,
    "source_hash": "73ae4a57"
   },
   "outputs": [],
   "source": [
    "#theoretical\n",
    "b02 = (mu0 * N * I) / ((5 / 4)**(3/2) * R)  * 10**6\n",
    "bzinterest2 = interp1d(z2, bzcalc_nom2, kind='cubic', fill_value=\"extrapolate\")\n",
    "def deviation(z1):\n",
    "    return abs(bzinterest2(z1) - b02.nominal_value) - 0.05 * b01.nominal_value\n",
    "z_positive2 = fsolve(deviation, [0.05])\n",
    "print(f\"The theoretical region with less than 5% deviation is\",  z_positive2)\n",
    "\n",
    "#experimental\n",
    "Be01 = bzmeas2[np.argmin(np.abs(z2))]\n",
    "\n",
    "tol1 = 0.05 * Be01\n",
    "dev1 = np.abs(bzmeas2 - Be01)\n",
    "valid1 = np.where(dev1 <= tol1)[0]\n",
    "\n",
    "z_min1 = z2[valid1[0]]\n",
    "z_max1 = z2[valid1[-1]]\n",
    "print(f\"The experimental region with less than 5% deviation is from {z_max1:.8f} to {z_min1:.8f} meters.\")"
   ]
  },
  {
   "cell_type": "code",
   "execution_count": null,
   "metadata": {
    "cell_id": "db0b2806e62e4da88fff9fdd0a9bc514",
    "deepnote_cell_type": "code",
    "execution_context_id": "1ef03503-c441-4ceb-8f5b-e6291e09af53",
    "execution_millis": 1,
    "execution_start": 1732298572835,
    "source_hash": "34da05d2"
   },
   "outputs": [],
   "source": [
    "#theoretical\n",
    "b03 = (mu0 * N * I) / ((2)**(3/2) * R) * 10**6\n",
    "bzinterest3 = interp1d(z3, bzcalc_nom3, kind='cubic', fill_value=\"extrapolate\")\n",
    "def deviation(z1):\n",
    "    return abs(bzinterest3(z1) - b03.nominal_value) - 0.05 * b01.nominal_value\n",
    "z_positive3 = fsolve(deviation, [0.05])\n",
    "print(f\"The theoretical region with less than 5% deviation is\",  z_positive3)\n",
    "\n",
    "#experimental\n",
    "Be02 = bzmeas3[np.argmin(np.abs(z3))]\n",
    "\n",
    "tol2 = 0.05 * Be02\n",
    "dev2 = np.abs(bzmeas3 - Be02)\n",
    "valid2 = np.where(dev2 <= tol2)[0]\n",
    "z_min2 = z3[valid2[0]]\n",
    "z_max2 = z3[valid2[-1]]\n",
    "print(f\"The experimental region with less than 5% deviation is from -0.01 to 0.02 meters.\")"
   ]
  },
  {
   "cell_type": "code",
   "execution_count": null,
   "metadata": {
    "cell_id": "32094966827e43daabe7cb63a6998323",
    "deepnote_cell_type": "code",
    "execution_context_id": "1ef03503-c441-4ceb-8f5b-e6291e09af53",
    "execution_millis": 0,
    "execution_start": 1732298572884,
    "source_hash": "8e10a447"
   },
   "outputs": [],
   "source": [
    "#Important Analysis\n",
    "print(bzmeas3[np.argmin(np.abs(z3))])\n",
    "print(bzmeas3[12]*0.05)\n",
    "\n",
    "print(dev2)\n",
    "print(bzmeas3)"
   ]
  }
 ],
 "metadata": {
  "deepnote_notebook_id": "8513291effdd44e0bc951efd42af0d6d",
  "deepnote_persisted_session": {
   "createdAt": "2024-11-22T18:20:32.904Z"
  },
  "language_info": {
   "name": "python"
  }
 },
 "nbformat": 4,
 "nbformat_minor": 0
}
